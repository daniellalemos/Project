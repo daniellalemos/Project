{
 "cells": [
  {
   "cell_type": "markdown",
   "id": "4e3e201d-6040-4a40-8b4d-729620dd9717",
   "metadata": {},
   "source": [
    "## *Escherichia* *Coli*  BL21(DE3) - Model: iB21_1397"
   ]
  },
  {
   "cell_type": "code",
   "execution_count": 1,
   "id": "063e7471-76cb-45ec-9723-cc5f9e6249ea",
   "metadata": {},
   "outputs": [
    {
     "name": "stdout",
     "output_type": "stream",
     "text": [
      "Set parameter Username\n",
      "Academic license - for non-commercial use only - expires 2022-12-11\n"
     ]
    }
   ],
   "source": [
    "import cobra \n",
    "from cobra import Model,Reaction,Metabolite\n",
    "from mewpy.simulation import get_simulator\n",
    "import tempfile\n",
    "from pprint import pprint\n",
    "from cobra.io import write_sbml_model, validate_sbml_model"
   ]
  },
  {
   "cell_type": "markdown",
   "id": "08e060b2-a44e-4054-97df-28371f51e22d",
   "metadata": {},
   "source": [
    "### Uploading the model in a xml format "
   ]
  },
  {
   "cell_type": "code",
   "execution_count": 2,
   "id": "262fb63b-2c13-48eb-85fb-f9d11461d9c4",
   "metadata": {},
   "outputs": [],
   "source": [
    "iB21_1397 = cobra.io.read_sbml_model('iB21_1397.xml')"
   ]
  },
  {
   "cell_type": "markdown",
   "id": "c0e9583f-5ae9-481f-90d2-04080c4f1d15",
   "metadata": {},
   "source": [
    "### Informations about the model"
   ]
  },
  {
   "cell_type": "code",
   "execution_count": 3,
   "id": "5edd5da3-649d-4264-94d4-c685a5155689",
   "metadata": {},
   "outputs": [
    {
     "data": {
      "text/html": [
       "\n",
       "        <table>\n",
       "            <tr>\n",
       "                <td><strong>Name</strong></td>\n",
       "                <td>iB21_1397</td>\n",
       "            </tr><tr>\n",
       "                <td><strong>Memory address</strong></td>\n",
       "                <td>0x07fa2e17f7730</td>\n",
       "            </tr><tr>\n",
       "                <td><strong>Number of metabolites</strong></td>\n",
       "                <td>1943</td>\n",
       "            </tr><tr>\n",
       "                <td><strong>Number of reactions</strong></td>\n",
       "                <td>2741</td>\n",
       "            </tr><tr>\n",
       "                <td><strong>Number of groups</strong></td>\n",
       "                <td>0</td>\n",
       "            </tr><tr>\n",
       "                <td><strong>Objective expression</strong></td>\n",
       "                <td>1.0*BIOMASS_Ec_iJO1366_core_53p95M - 1.0*BIOMASS_Ec_iJO1366_core_53p95M_reverse_5c8b1</td>\n",
       "            </tr><tr>\n",
       "                <td><strong>Compartments</strong></td>\n",
       "                <td>cytosol, extracellular space, periplasm</td>\n",
       "            </tr>\n",
       "          </table>"
      ],
      "text/plain": [
       "<Model iB21_1397 at 0x7fa2e17f7730>"
      ]
     },
     "execution_count": 3,
     "metadata": {},
     "output_type": "execute_result"
    }
   ],
   "source": [
    "iB21_1397"
   ]
  },
  {
   "cell_type": "markdown",
   "id": "4d1b5307-317e-4a2c-9d83-122a21c0cf2d",
   "metadata": {},
   "source": [
    "### Reactions"
   ]
  },
  {
   "cell_type": "markdown",
   "id": "14d4e3dc-0740-47e0-8c18-08e40a7a4666",
   "metadata": {},
   "source": [
    "#### Phenylpropanoids Pathway Common Branch"
   ]
  },
  {
   "cell_type": "markdown",
   "id": "278b7ea1-29a6-44f8-af97-c7c774510403",
   "metadata": {},
   "source": [
    "##### Tyrosine ammonia lyase enzyme"
   ]
  },
  {
   "cell_type": "code",
   "execution_count": 4,
   "id": "2117219a-3960-41ce-a9e3-a031d07bb155",
   "metadata": {},
   "outputs": [
    {
     "data": {
      "text/plain": [
       "'tyr__L_c --> E4_coumarate_c + nh4_c'"
      ]
     },
     "execution_count": 4,
     "metadata": {},
     "output_type": "execute_result"
    }
   ],
   "source": [
    "reaction1 = Reaction ('tyrosine_ammonia_lyase')\n",
    "reaction1.name = 'tyr_am_ly'\n",
    "reaction1.lower_bound = 0.\n",
    "reaction1.upper_bound = 1000.\n",
    "\n",
    "E4_coum = Metabolite(\n",
    "    'E4_coumarate_c',\n",
    "    formula = 'C9H7O3',\n",
    "    name = '(E)-4-coumarate',\n",
    "    compartment = 'c')\n",
    "nh4 = Metabolite(\n",
    "    'nh4_c',\n",
    "    formula = 'H4N',\n",
    "    name = 'ammonia',\n",
    "    compartment = 'c')\n",
    "\n",
    "reaction1.add_metabolites({\n",
    "    iB21_1397.metabolites.tyr__L_c: -1.0,\n",
    "    E4_coum: 1.0,\n",
    "    nh4: 1.0\n",
    "})\n",
    "\n",
    "reaction1.gene_reaction_rule = 'hutH'\n",
    "\n",
    "reaction1.reaction"
   ]
  },
  {
   "cell_type": "code",
   "execution_count": 5,
   "id": "24b1886a-5a11-4277-a89e-c9e630144829",
   "metadata": {},
   "outputs": [
    {
     "data": {
      "text/html": [
       "\n",
       "        <table>\n",
       "            <tr>\n",
       "                <td><strong>Reaction identifier</strong></td><td>tyrosine_ammonia_lyase</td>\n",
       "            </tr><tr>\n",
       "                <td><strong>Name</strong></td><td>tyr_am_ly</td>\n",
       "            </tr><tr>\n",
       "                <td><strong>Memory address</strong></td>\n",
       "                <td>0x07fa2d3ec1cd0</td>\n",
       "            </tr><tr>\n",
       "                <td><strong>Stoichiometry</strong></td>\n",
       "                <td>\n",
       "                    <p style='text-align:right'>tyr__L_c --> E4_coumarate_c + nh4_c</p>\n",
       "                    <p style='text-align:right'>L-Tyrosine --> (E)-4-coumarate + Ammonium</p>\n",
       "                </td>\n",
       "            </tr><tr>\n",
       "                <td><strong>GPR</strong></td><td>hutH</td>\n",
       "            </tr><tr>\n",
       "                <td><strong>Lower bound</strong></td><td>0.0</td>\n",
       "            </tr><tr>\n",
       "                <td><strong>Upper bound</strong></td><td>1000.0</td>\n",
       "            </tr>\n",
       "        </table>\n",
       "        "
      ],
      "text/plain": [
       "<Reaction tyrosine_ammonia_lyase at 0x7fa2d3ec1cd0>"
      ]
     },
     "execution_count": 5,
     "metadata": {},
     "output_type": "execute_result"
    }
   ],
   "source": [
    "iB21_1397.add_reaction(reaction1)\n",
    "iB21_1397.reactions.tyrosine_ammonia_lyase"
   ]
  },
  {
   "cell_type": "markdown",
   "id": "91c71cc0-e532-41e1-a9b5-419886ba3ec1",
   "metadata": {},
   "source": [
    "##### Tyrosine -> p-coumaric acid"
   ]
  },
  {
   "cell_type": "code",
   "execution_count": 6,
   "id": "884093a2-459b-48b2-bcf1-082587fa7e0f",
   "metadata": {},
   "outputs": [
    {
     "data": {
      "text/plain": [
       "'tyr__L_c --> pcoumaricA'"
      ]
     },
     "execution_count": 6,
     "metadata": {},
     "output_type": "execute_result"
    }
   ],
   "source": [
    "reaction2 = Reaction ('p_coumaric_acid')\n",
    "reaction2.name = 'p-coumaric acid'\n",
    "reaction2.lower_bound = 0.\n",
    "reaction2.upper_bound = 1000.\n",
    "\n",
    "p_coumaricA = Metabolite(\n",
    "    'pcoumaricA',\n",
    "    formula = 'C9H8O3',\n",
    "    name = 'p_coumaric_acid',\n",
    "    compartment = 'c')\n",
    "\n",
    "reaction2.add_metabolites({\n",
    "    iB21_1397.metabolites.tyr__L_c: -1.0,\n",
    "    p_coumaricA:1.0\n",
    "})\n",
    "\n",
    "reaction2.gene_reaction_rule = 'hutH'\n",
    "\n",
    "reaction2.reaction"
   ]
  },
  {
   "cell_type": "code",
   "execution_count": 7,
   "id": "e03812db-3bc0-44ad-a17a-28f500ef3b76",
   "metadata": {},
   "outputs": [
    {
     "data": {
      "text/html": [
       "\n",
       "        <table>\n",
       "            <tr>\n",
       "                <td><strong>Reaction identifier</strong></td><td>p_coumaric_acid</td>\n",
       "            </tr><tr>\n",
       "                <td><strong>Name</strong></td><td>p-coumaric acid</td>\n",
       "            </tr><tr>\n",
       "                <td><strong>Memory address</strong></td>\n",
       "                <td>0x07fa2d3ec1910</td>\n",
       "            </tr><tr>\n",
       "                <td><strong>Stoichiometry</strong></td>\n",
       "                <td>\n",
       "                    <p style='text-align:right'>tyr__L_c --> pcoumaricA</p>\n",
       "                    <p style='text-align:right'>L-Tyrosine --> p_coumaric_acid</p>\n",
       "                </td>\n",
       "            </tr><tr>\n",
       "                <td><strong>GPR</strong></td><td>hutH</td>\n",
       "            </tr><tr>\n",
       "                <td><strong>Lower bound</strong></td><td>0.0</td>\n",
       "            </tr><tr>\n",
       "                <td><strong>Upper bound</strong></td><td>1000.0</td>\n",
       "            </tr>\n",
       "        </table>\n",
       "        "
      ],
      "text/plain": [
       "<Reaction p_coumaric_acid at 0x7fa2d3ec1910>"
      ]
     },
     "execution_count": 7,
     "metadata": {},
     "output_type": "execute_result"
    }
   ],
   "source": [
    "iB21_1397.add_reaction(reaction2)\n",
    "iB21_1397.reactions.p_coumaric_acid"
   ]
  },
  {
   "cell_type": "markdown",
   "id": "b221f327-bb3a-4525-a77d-8df78304367c",
   "metadata": {},
   "source": [
    "##### p-coumaric acid -> p-coumaroyl-CoA"
   ]
  },
  {
   "cell_type": "code",
   "execution_count": 8,
   "id": "99a63f0e-3fbe-401e-9426-998ad6b1b5ee",
   "metadata": {},
   "outputs": [
    {
     "data": {
      "text/plain": [
       "'pcoumaricA --> pcoumaroylCoA'"
      ]
     },
     "execution_count": 8,
     "metadata": {},
     "output_type": "execute_result"
    }
   ],
   "source": [
    "reaction3 = Reaction ('p_coumaroyl_coA')\n",
    "reaction3.name = 'p-coumaroyl-CoA'\n",
    "reaction3.lower_bound = 0.\n",
    "reaction3.upper_bound = 1000.\n",
    "\n",
    "p_coumaroyl = Metabolite(\n",
    "    'pcoumaroylCoA',\n",
    "    formula = 'C30H42N7O18P3S',\n",
    "    name = 'p_coumaroyl_CoA',\n",
    "    compartment = 'c')\n",
    "\n",
    "reaction3.add_metabolites({\n",
    "    iB21_1397.metabolites.pcoumaricA: -1.0,\n",
    "    p_coumaroyl:1.0\n",
    "})\n",
    "\n",
    "reaction3.gene_reaction_rule = '4CL1'\n",
    "\n",
    "reaction3.reaction"
   ]
  },
  {
   "cell_type": "code",
   "execution_count": 9,
   "id": "83d45633-9747-435b-a7ef-95dab48459c3",
   "metadata": {},
   "outputs": [
    {
     "data": {
      "text/html": [
       "\n",
       "        <table>\n",
       "            <tr>\n",
       "                <td><strong>Reaction identifier</strong></td><td>p_coumaroyl_coA</td>\n",
       "            </tr><tr>\n",
       "                <td><strong>Name</strong></td><td>p-coumaroyl-CoA</td>\n",
       "            </tr><tr>\n",
       "                <td><strong>Memory address</strong></td>\n",
       "                <td>0x07fa2d3ec1df0</td>\n",
       "            </tr><tr>\n",
       "                <td><strong>Stoichiometry</strong></td>\n",
       "                <td>\n",
       "                    <p style='text-align:right'>pcoumaricA --> pcoumaroylCoA</p>\n",
       "                    <p style='text-align:right'>p_coumaric_acid --> p_coumaroyl_CoA</p>\n",
       "                </td>\n",
       "            </tr><tr>\n",
       "                <td><strong>GPR</strong></td><td>4CL1</td>\n",
       "            </tr><tr>\n",
       "                <td><strong>Lower bound</strong></td><td>0.0</td>\n",
       "            </tr><tr>\n",
       "                <td><strong>Upper bound</strong></td><td>1000.0</td>\n",
       "            </tr>\n",
       "        </table>\n",
       "        "
      ],
      "text/plain": [
       "<Reaction p_coumaroyl_coA at 0x7fa2d3ec1df0>"
      ]
     },
     "execution_count": 9,
     "metadata": {},
     "output_type": "execute_result"
    }
   ],
   "source": [
    "iB21_1397.add_reaction(reaction3)\n",
    "iB21_1397.reactions.p_coumaroyl_coA"
   ]
  },
  {
   "cell_type": "markdown",
   "id": "2d2dc016-677c-4bd3-99e3-cb83f3404782",
   "metadata": {},
   "source": [
    "#### Furanocoumarins pathway"
   ]
  },
  {
   "cell_type": "markdown",
   "id": "f912e04d-85b6-4a31-a87b-8b17b8851403",
   "metadata": {},
   "source": [
    "#### p-coumaroyl-CoA -> umbelliferone"
   ]
  },
  {
   "cell_type": "code",
   "execution_count": 10,
   "id": "39eb9f5d-4bd2-4d0c-82fc-39ca578be9f4",
   "metadata": {},
   "outputs": [
    {
     "data": {
      "text/plain": [
       "'pcoumaroylCoA --> umbelliferone_c'"
      ]
     },
     "execution_count": 10,
     "metadata": {},
     "output_type": "execute_result"
    }
   ],
   "source": [
    "reaction4 = Reaction ('umbelliferone')\n",
    "reaction4.name = 'umbelliferone'\n",
    "reaction4.lower_bound = 0.\n",
    "reaction4.upper_bound = 1000.\n",
    "\n",
    "umbelliferone_c = Metabolite(\n",
    "    'umbelliferone_c',\n",
    "    formula = 'C9H6O3',\n",
    "    name = 'umbelliferone',\n",
    "    compartment = 'c')\n",
    "\n",
    "reaction4.add_metabolites({\n",
    "    iB21_1397.metabolites.pcoumaroylCoA: -1.0,\n",
    "    umbelliferone_c:1.0\n",
    "})\n",
    "\n",
    "#reaction3.gene_reaction_rule = ''\n",
    "\n",
    "reaction4.reaction"
   ]
  },
  {
   "cell_type": "code",
   "execution_count": 11,
   "id": "1d743625-5c66-45e5-afb2-f662fcff0a57",
   "metadata": {},
   "outputs": [
    {
     "data": {
      "text/html": [
       "\n",
       "        <table>\n",
       "            <tr>\n",
       "                <td><strong>Reaction identifier</strong></td><td>umbelliferone</td>\n",
       "            </tr><tr>\n",
       "                <td><strong>Name</strong></td><td>umbelliferone</td>\n",
       "            </tr><tr>\n",
       "                <td><strong>Memory address</strong></td>\n",
       "                <td>0x07fa2d3ebd5b0</td>\n",
       "            </tr><tr>\n",
       "                <td><strong>Stoichiometry</strong></td>\n",
       "                <td>\n",
       "                    <p style='text-align:right'>pcoumaroylCoA --> umbelliferone_c</p>\n",
       "                    <p style='text-align:right'>p_coumaroyl_CoA --> umbelliferone</p>\n",
       "                </td>\n",
       "            </tr><tr>\n",
       "                <td><strong>GPR</strong></td><td></td>\n",
       "            </tr><tr>\n",
       "                <td><strong>Lower bound</strong></td><td>0.0</td>\n",
       "            </tr><tr>\n",
       "                <td><strong>Upper bound</strong></td><td>1000.0</td>\n",
       "            </tr>\n",
       "        </table>\n",
       "        "
      ],
      "text/plain": [
       "<Reaction umbelliferone at 0x7fa2d3ebd5b0>"
      ]
     },
     "execution_count": 11,
     "metadata": {},
     "output_type": "execute_result"
    }
   ],
   "source": [
    "iB21_1397.add_reaction(reaction4)\n",
    "iB21_1397.reactions.umbelliferone"
   ]
  },
  {
   "cell_type": "markdown",
   "id": "d143ee21-6865-49ef-b829-68ef192615a6",
   "metadata": {},
   "source": [
    "#####  umbelliferone -> demethylsuberosin"
   ]
  },
  {
   "cell_type": "code",
   "execution_count": 12,
   "id": "32b90fa3-c2ed-4136-a06f-5700d64c5017",
   "metadata": {},
   "outputs": [
    {
     "data": {
      "text/plain": [
       "'dmpp_c + umbelliferone_c --> demethylsuberosin_c'"
      ]
     },
     "execution_count": 12,
     "metadata": {},
     "output_type": "execute_result"
    }
   ],
   "source": [
    "reaction5 = Reaction ('demethylsuberosin')\n",
    "reaction5.name = 'demethylsuberosin'\n",
    "reaction5.lower_bound = 0.\n",
    "reaction5.upper_bound = 1000.\n",
    "\n",
    "demethylsuberosin_c = Metabolite(\n",
    "    'demethylsuberosin_c',\n",
    "    formula = 'C14H14O3',\n",
    "    name = 'demethylsuberosin',\n",
    "    compartment = 'c')\n",
    "\n",
    "reaction5.add_metabolites({\n",
    "    iB21_1397.metabolites.umbelliferone_c: -1.0,\n",
    "    iB21_1397.metabolites.dmpp_c:-1.0,\n",
    "    demethylsuberosin_c:1.0\n",
    "})\n",
    "\n",
    "#reaction3.gene_reaction_rule = ''\n",
    "\n",
    "reaction5.reaction"
   ]
  },
  {
   "cell_type": "markdown",
   "id": "27f86cf7-ff88-40b4-86cc-bef207a27719",
   "metadata": {},
   "source": [
    "#####  demethylsuberosin -> marmesin"
   ]
  },
  {
   "cell_type": "code",
   "execution_count": 13,
   "id": "bb0ab904-96f7-44cf-bd3e-4c9cd6e302c3",
   "metadata": {},
   "outputs": [
    {
     "data": {
      "text/html": [
       "\n",
       "        <table>\n",
       "            <tr>\n",
       "                <td><strong>Reaction identifier</strong></td><td>demethylsuberosin</td>\n",
       "            </tr><tr>\n",
       "                <td><strong>Name</strong></td><td>demethylsuberosin</td>\n",
       "            </tr><tr>\n",
       "                <td><strong>Memory address</strong></td>\n",
       "                <td>0x07fa2d3ebde20</td>\n",
       "            </tr><tr>\n",
       "                <td><strong>Stoichiometry</strong></td>\n",
       "                <td>\n",
       "                    <p style='text-align:right'>dmpp_c + umbelliferone_c --> demethylsuberosin_c</p>\n",
       "                    <p style='text-align:right'>Dimethylallyl diphosphate + umbelliferone --> demethylsuberosin</p>\n",
       "                </td>\n",
       "            </tr><tr>\n",
       "                <td><strong>GPR</strong></td><td></td>\n",
       "            </tr><tr>\n",
       "                <td><strong>Lower bound</strong></td><td>0.0</td>\n",
       "            </tr><tr>\n",
       "                <td><strong>Upper bound</strong></td><td>1000.0</td>\n",
       "            </tr>\n",
       "        </table>\n",
       "        "
      ],
      "text/plain": [
       "<Reaction demethylsuberosin at 0x7fa2d3ebde20>"
      ]
     },
     "execution_count": 13,
     "metadata": {},
     "output_type": "execute_result"
    }
   ],
   "source": [
    "iB21_1397.add_reaction(reaction5)\n",
    "iB21_1397.reactions.demethylsuberosin"
   ]
  },
  {
   "cell_type": "code",
   "execution_count": 14,
   "id": "8ae2ed76-f8db-441f-b4ca-9b611fc20b7f",
   "metadata": {},
   "outputs": [
    {
     "data": {
      "text/plain": [
       "'demethylsuberosin_c --> marmesin_c'"
      ]
     },
     "execution_count": 14,
     "metadata": {},
     "output_type": "execute_result"
    }
   ],
   "source": [
    "reaction6 = Reaction ('marmesin')\n",
    "reaction6.name = 'marmesin'\n",
    "reaction6.lower_bound = 0.\n",
    "reaction6.upper_bound = 1000.\n",
    "\n",
    "marmesin_c = Metabolite(\n",
    "    'marmesin_c',\n",
    "    formula = 'C14H14O4',\n",
    "    name = 'marmesin',\n",
    "    compartment = 'c')\n",
    "\n",
    "reaction6.add_metabolites({\n",
    "    iB21_1397.metabolites.demethylsuberosin_c: -1.0,\n",
    "    marmesin_c: 1.0\n",
    "})\n",
    "\n",
    "#reaction3.gene_reaction_rule = ''\n",
    "\n",
    "reaction6.reaction"
   ]
  },
  {
   "cell_type": "code",
   "execution_count": 15,
   "id": "1ceaf9e5-7b4b-40a0-b2ea-7ed86821ac42",
   "metadata": {},
   "outputs": [
    {
     "data": {
      "text/html": [
       "\n",
       "        <table>\n",
       "            <tr>\n",
       "                <td><strong>Reaction identifier</strong></td><td>marmesin</td>\n",
       "            </tr><tr>\n",
       "                <td><strong>Name</strong></td><td>marmesin</td>\n",
       "            </tr><tr>\n",
       "                <td><strong>Memory address</strong></td>\n",
       "                <td>0x07fa2d3ecf280</td>\n",
       "            </tr><tr>\n",
       "                <td><strong>Stoichiometry</strong></td>\n",
       "                <td>\n",
       "                    <p style='text-align:right'>demethylsuberosin_c --> marmesin_c</p>\n",
       "                    <p style='text-align:right'>demethylsuberosin --> marmesin</p>\n",
       "                </td>\n",
       "            </tr><tr>\n",
       "                <td><strong>GPR</strong></td><td></td>\n",
       "            </tr><tr>\n",
       "                <td><strong>Lower bound</strong></td><td>0.0</td>\n",
       "            </tr><tr>\n",
       "                <td><strong>Upper bound</strong></td><td>1000.0</td>\n",
       "            </tr>\n",
       "        </table>\n",
       "        "
      ],
      "text/plain": [
       "<Reaction marmesin at 0x7fa2d3ecf280>"
      ]
     },
     "execution_count": 15,
     "metadata": {},
     "output_type": "execute_result"
    }
   ],
   "source": [
    "iB21_1397.add_reaction(reaction6)\n",
    "iB21_1397.reactions.marmesin"
   ]
  },
  {
   "cell_type": "markdown",
   "id": "80117a03-6089-44d4-bdb4-52f5fe751efb",
   "metadata": {},
   "source": [
    "#####  marmesin -> psoralen"
   ]
  },
  {
   "cell_type": "code",
   "execution_count": 16,
   "id": "d62c5af3-5da2-445a-820f-e9b757e716da",
   "metadata": {},
   "outputs": [
    {
     "data": {
      "text/plain": [
       "'marmesin_c --> psoralen_c'"
      ]
     },
     "execution_count": 16,
     "metadata": {},
     "output_type": "execute_result"
    }
   ],
   "source": [
    "reaction7 = Reaction ('psoralen')\n",
    "reaction7.name = 'psoralen'\n",
    "reaction7.lower_bound = 0.\n",
    "reaction7.upper_bound = 1000.\n",
    "\n",
    "psoralen_c = Metabolite(\n",
    "    'psoralen_c',\n",
    "    formula = 'C11H6O3',\n",
    "    name = 'psoralen',\n",
    "    compartment = 'c')\n",
    "\n",
    "reaction7.add_metabolites({\n",
    "    iB21_1397.metabolites.marmesin_c: -1.0,\n",
    "    psoralen_c: 1.0\n",
    "})\n",
    "\n",
    "#reaction3.gene_reaction_rule = ''\n",
    "\n",
    "reaction7.reaction"
   ]
  },
  {
   "cell_type": "code",
   "execution_count": 17,
   "id": "4695efb3-bf53-4226-9564-f773bf0a902f",
   "metadata": {},
   "outputs": [
    {
     "data": {
      "text/html": [
       "\n",
       "        <table>\n",
       "            <tr>\n",
       "                <td><strong>Reaction identifier</strong></td><td>psoralen</td>\n",
       "            </tr><tr>\n",
       "                <td><strong>Name</strong></td><td>psoralen</td>\n",
       "            </tr><tr>\n",
       "                <td><strong>Memory address</strong></td>\n",
       "                <td>0x07fa2e1cbc5b0</td>\n",
       "            </tr><tr>\n",
       "                <td><strong>Stoichiometry</strong></td>\n",
       "                <td>\n",
       "                    <p style='text-align:right'>marmesin_c --> psoralen_c</p>\n",
       "                    <p style='text-align:right'>marmesin --> psoralen</p>\n",
       "                </td>\n",
       "            </tr><tr>\n",
       "                <td><strong>GPR</strong></td><td></td>\n",
       "            </tr><tr>\n",
       "                <td><strong>Lower bound</strong></td><td>0.0</td>\n",
       "            </tr><tr>\n",
       "                <td><strong>Upper bound</strong></td><td>1000.0</td>\n",
       "            </tr>\n",
       "        </table>\n",
       "        "
      ],
      "text/plain": [
       "<Reaction psoralen at 0x7fa2e1cbc5b0>"
      ]
     },
     "execution_count": 17,
     "metadata": {},
     "output_type": "execute_result"
    }
   ],
   "source": [
    "iB21_1397.add_reaction(reaction7)\n",
    "iB21_1397.reactions.psoralen"
   ]
  },
  {
   "cell_type": "markdown",
   "id": "302ce4fe-cbaa-4bf0-8c3d-579529ee6911",
   "metadata": {},
   "source": [
    "#####  psoralen -> xanthotoxol"
   ]
  },
  {
   "cell_type": "code",
   "execution_count": 18,
   "id": "72062806-0b25-4133-bdd0-ae9cc05c52d1",
   "metadata": {},
   "outputs": [
    {
     "data": {
      "text/plain": [
       "'psoralen_c --> xanthotoxol_c'"
      ]
     },
     "execution_count": 18,
     "metadata": {},
     "output_type": "execute_result"
    }
   ],
   "source": [
    "reaction8 = Reaction ('xanthotoxol')\n",
    "reaction8.name = 'xanthotoxol'\n",
    "reaction8.lower_bound = 0.\n",
    "reaction8.upper_bound = 1000.\n",
    "\n",
    "xanthotoxol_c = Metabolite(\n",
    "    'xanthotoxol_c',\n",
    "    formula = 'C11H6O4',\n",
    "    name = 'xanthotoxol',\n",
    "    compartment = 'c')\n",
    "\n",
    "reaction8.add_metabolites({\n",
    "    iB21_1397.metabolites. psoralen_c: -1.0,\n",
    "    xanthotoxol_c: 1.0\n",
    "})\n",
    "\n",
    "#reaction3.gene_reaction_rule = ''\n",
    "\n",
    "reaction8.reaction"
   ]
  },
  {
   "cell_type": "code",
   "execution_count": 19,
   "id": "a43cefa6-489e-4330-9988-51e2a20020a7",
   "metadata": {},
   "outputs": [
    {
     "data": {
      "text/html": [
       "\n",
       "        <table>\n",
       "            <tr>\n",
       "                <td><strong>Reaction identifier</strong></td><td>xanthotoxol</td>\n",
       "            </tr><tr>\n",
       "                <td><strong>Name</strong></td><td>xanthotoxol</td>\n",
       "            </tr><tr>\n",
       "                <td><strong>Memory address</strong></td>\n",
       "                <td>0x07fa2e1cced00</td>\n",
       "            </tr><tr>\n",
       "                <td><strong>Stoichiometry</strong></td>\n",
       "                <td>\n",
       "                    <p style='text-align:right'>psoralen_c --> xanthotoxol_c</p>\n",
       "                    <p style='text-align:right'>psoralen --> xanthotoxol</p>\n",
       "                </td>\n",
       "            </tr><tr>\n",
       "                <td><strong>GPR</strong></td><td></td>\n",
       "            </tr><tr>\n",
       "                <td><strong>Lower bound</strong></td><td>0.0</td>\n",
       "            </tr><tr>\n",
       "                <td><strong>Upper bound</strong></td><td>1000.0</td>\n",
       "            </tr>\n",
       "        </table>\n",
       "        "
      ],
      "text/plain": [
       "<Reaction xanthotoxol at 0x7fa2e1cced00>"
      ]
     },
     "execution_count": 19,
     "metadata": {},
     "output_type": "execute_result"
    }
   ],
   "source": [
    "iB21_1397.add_reaction(reaction8)\n",
    "iB21_1397.reactions.xanthotoxol"
   ]
  },
  {
   "cell_type": "markdown",
   "id": "8dd11905-8ddc-4ffd-a458-583c2488cb50",
   "metadata": {},
   "source": [
    "##### xanthotoxol -> xanthotoxin"
   ]
  },
  {
   "cell_type": "code",
   "execution_count": 20,
   "id": "c265eb2c-9ef3-4960-b8b5-7e5ece5acb7e",
   "metadata": {},
   "outputs": [
    {
     "data": {
      "text/plain": [
       "'amet_c + xanthotoxol_c --> xanthotoxin_c'"
      ]
     },
     "execution_count": 20,
     "metadata": {},
     "output_type": "execute_result"
    }
   ],
   "source": [
    "reaction9 = Reaction ('xanthotoxin')\n",
    "reaction9.name = 'xanthotoxin'\n",
    "reaction9.lower_bound = 0.\n",
    "reaction9.upper_bound = 1000.\n",
    "\n",
    "xanthotoxin_c = Metabolite(\n",
    "    'xanthotoxin_c',\n",
    "    formula = 'C12H8O4',\n",
    "    name = 'xanthotoxin',\n",
    "    compartment = 'c')\n",
    "\n",
    "reaction9.add_metabolites({\n",
    "    iB21_1397.metabolites.xanthotoxol_c: -1.0,\n",
    "    iB21_1397.metabolites.amet_c:-1.0,\n",
    "    xanthotoxin_c: 1.0\n",
    "})\n",
    "\n",
    "#reaction3.gene_reaction_rule = ''\n",
    "\n",
    "reaction9.reaction"
   ]
  },
  {
   "cell_type": "code",
   "execution_count": 21,
   "id": "595846d1-c403-480f-a638-07b3339ab3ac",
   "metadata": {},
   "outputs": [
    {
     "data": {
      "text/html": [
       "\n",
       "        <table>\n",
       "            <tr>\n",
       "                <td><strong>Reaction identifier</strong></td><td>xanthotoxin</td>\n",
       "            </tr><tr>\n",
       "                <td><strong>Name</strong></td><td>xanthotoxin</td>\n",
       "            </tr><tr>\n",
       "                <td><strong>Memory address</strong></td>\n",
       "                <td>0x07fa2e1ce9eb0</td>\n",
       "            </tr><tr>\n",
       "                <td><strong>Stoichiometry</strong></td>\n",
       "                <td>\n",
       "                    <p style='text-align:right'>amet_c + xanthotoxol_c --> xanthotoxin_c</p>\n",
       "                    <p style='text-align:right'>S-Adenosyl-L-methionine + xanthotoxol --> xanthotoxin</p>\n",
       "                </td>\n",
       "            </tr><tr>\n",
       "                <td><strong>GPR</strong></td><td></td>\n",
       "            </tr><tr>\n",
       "                <td><strong>Lower bound</strong></td><td>0.0</td>\n",
       "            </tr><tr>\n",
       "                <td><strong>Upper bound</strong></td><td>1000.0</td>\n",
       "            </tr>\n",
       "        </table>\n",
       "        "
      ],
      "text/plain": [
       "<Reaction xanthotoxin at 0x7fa2e1ce9eb0>"
      ]
     },
     "execution_count": 21,
     "metadata": {},
     "output_type": "execute_result"
    }
   ],
   "source": [
    "iB21_1397.add_reaction(reaction9)\n",
    "iB21_1397.reactions.xanthotoxin"
   ]
  },
  {
   "cell_type": "markdown",
   "id": "91e29394-b27a-46bb-9706-37be77f9e194",
   "metadata": {},
   "source": [
    "#### Prenylflavonoids pathway"
   ]
  },
  {
   "cell_type": "markdown",
   "id": "574db9f6-9307-4eff-adb2-b457776e5c0c",
   "metadata": {},
   "source": [
    "#####  p-coumaroyl-coA -> naringenin chalcone"
   ]
  },
  {
   "cell_type": "code",
   "execution_count": 22,
   "id": "8b8454b0-a49f-4882-be0f-c42858814940",
   "metadata": {},
   "outputs": [
    {
     "data": {
      "text/plain": [
       "'3.0 malcoa_c + pcoumaroylCoA --> naringeninchalcone_c'"
      ]
     },
     "execution_count": 22,
     "metadata": {},
     "output_type": "execute_result"
    }
   ],
   "source": [
    "reaction10 = Reaction ('naringenin_chalcone')\n",
    "reaction10.name = 'naringenin_chalcone'\n",
    "reaction10.lower_bound = 0.\n",
    "reaction10.upper_bound = 1000.\n",
    "\n",
    "naringeninchalcone_c = Metabolite(\n",
    "    'naringeninchalcone_c',\n",
    "    formula = 'C15H12O5',\n",
    "    name = 'naringenin_chalcone',\n",
    "    compartment = 'c')\n",
    "\n",
    "reaction10.add_metabolites({\n",
    "    iB21_1397.metabolites.pcoumaroylCoA: -1.0,\n",
    "    iB21_1397.metabolites.malcoa_c: -3.0,   \n",
    "    naringeninchalcone_c: 1.0\n",
    "})\n",
    "\n",
    "#reaction3.gene_reaction_rule = ''\n",
    "\n",
    "reaction10.reaction"
   ]
  },
  {
   "cell_type": "code",
   "execution_count": 23,
   "id": "1454e17e-f5de-42c5-8c58-c3756488f553",
   "metadata": {},
   "outputs": [
    {
     "data": {
      "text/html": [
       "\n",
       "        <table>\n",
       "            <tr>\n",
       "                <td><strong>Reaction identifier</strong></td><td>naringenin_chalcone</td>\n",
       "            </tr><tr>\n",
       "                <td><strong>Name</strong></td><td>naringenin_chalcone</td>\n",
       "            </tr><tr>\n",
       "                <td><strong>Memory address</strong></td>\n",
       "                <td>0x07fa2e1cce310</td>\n",
       "            </tr><tr>\n",
       "                <td><strong>Stoichiometry</strong></td>\n",
       "                <td>\n",
       "                    <p style='text-align:right'>3.0 malcoa_c + pcoumaroylCoA --> naringeninchalcone_c</p>\n",
       "                    <p style='text-align:right'>3.0 Malonyl CoA C24H33N7O19P3S + p_coumaroyl_CoA --> naringenin_chalcone</p>\n",
       "                </td>\n",
       "            </tr><tr>\n",
       "                <td><strong>GPR</strong></td><td></td>\n",
       "            </tr><tr>\n",
       "                <td><strong>Lower bound</strong></td><td>0.0</td>\n",
       "            </tr><tr>\n",
       "                <td><strong>Upper bound</strong></td><td>1000.0</td>\n",
       "            </tr>\n",
       "        </table>\n",
       "        "
      ],
      "text/plain": [
       "<Reaction naringenin_chalcone at 0x7fa2e1cce310>"
      ]
     },
     "execution_count": 23,
     "metadata": {},
     "output_type": "execute_result"
    }
   ],
   "source": [
    "iB21_1397.add_reaction(reaction10)\n",
    "iB21_1397.reactions.naringenin_chalcone"
   ]
  },
  {
   "cell_type": "markdown",
   "id": "a83fdfd6-f59b-40e1-a933-df13c3a0e347",
   "metadata": {},
   "source": [
    "#####  naringenin chalcone -> desmethylxanthohumol"
   ]
  },
  {
   "cell_type": "code",
   "execution_count": 24,
   "id": "4a3072fc-083c-4a9c-a0b4-d9af96886c3e",
   "metadata": {},
   "outputs": [
    {
     "data": {
      "text/plain": [
       "'dmpp_c + naringeninchalcone_c --> desmethylxanthohumol_c'"
      ]
     },
     "execution_count": 24,
     "metadata": {},
     "output_type": "execute_result"
    }
   ],
   "source": [
    "reaction11 = Reaction ('desmethylxanthohumol')\n",
    "reaction11.name = 'desmethylxanthohumol'\n",
    "reaction11.lower_bound = 0.\n",
    "reaction11.upper_bound = 1000.\n",
    "\n",
    "desmethylxanthohumol_c = Metabolite(\n",
    "    'desmethylxanthohumol_c',\n",
    "    formula = 'C20H20O6',\n",
    "    name = 'desmethylxanthohumol',\n",
    "    compartment = 'c')\n",
    "\n",
    "reaction11.add_metabolites({\n",
    "    iB21_1397.metabolites.naringeninchalcone_c: -1.0,\n",
    "    iB21_1397.metabolites.dmpp_c: -1.0,  \n",
    "    desmethylxanthohumol_c: 1.0\n",
    "})\n",
    "\n",
    "#reaction3.gene_reaction_rule = ''\n",
    "\n",
    "reaction11.reaction"
   ]
  },
  {
   "cell_type": "code",
   "execution_count": 25,
   "id": "124c4366-b6c0-4a7a-93f0-4e4ecc49421d",
   "metadata": {},
   "outputs": [
    {
     "data": {
      "text/html": [
       "\n",
       "        <table>\n",
       "            <tr>\n",
       "                <td><strong>Reaction identifier</strong></td><td>desmethylxanthohumol</td>\n",
       "            </tr><tr>\n",
       "                <td><strong>Name</strong></td><td>desmethylxanthohumol</td>\n",
       "            </tr><tr>\n",
       "                <td><strong>Memory address</strong></td>\n",
       "                <td>0x07fa2e1cde8b0</td>\n",
       "            </tr><tr>\n",
       "                <td><strong>Stoichiometry</strong></td>\n",
       "                <td>\n",
       "                    <p style='text-align:right'>dmpp_c + naringeninchalcone_c --> desmethylxanthohumol_c</p>\n",
       "                    <p style='text-align:right'>Dimethylallyl diphosphate + naringenin_chalcone --> desmethylxanthohumol</p>\n",
       "                </td>\n",
       "            </tr><tr>\n",
       "                <td><strong>GPR</strong></td><td></td>\n",
       "            </tr><tr>\n",
       "                <td><strong>Lower bound</strong></td><td>0.0</td>\n",
       "            </tr><tr>\n",
       "                <td><strong>Upper bound</strong></td><td>1000.0</td>\n",
       "            </tr>\n",
       "        </table>\n",
       "        "
      ],
      "text/plain": [
       "<Reaction desmethylxanthohumol at 0x7fa2e1cde8b0>"
      ]
     },
     "execution_count": 25,
     "metadata": {},
     "output_type": "execute_result"
    }
   ],
   "source": [
    "iB21_1397.add_reaction(reaction11)\n",
    "iB21_1397.reactions.desmethylxanthohumol"
   ]
  },
  {
   "cell_type": "markdown",
   "id": "68aebb14-cfd3-4552-8d60-186c084f2298",
   "metadata": {},
   "source": [
    "#####  desmethylxanthohumol -> xanthohumol"
   ]
  },
  {
   "cell_type": "code",
   "execution_count": 26,
   "id": "15450639-0396-43bf-bbc8-730b0c353d24",
   "metadata": {},
   "outputs": [
    {
     "data": {
      "text/plain": [
       "'desmethylxanthohumol_c + dmpp_c --> xanthohumol_c'"
      ]
     },
     "execution_count": 26,
     "metadata": {},
     "output_type": "execute_result"
    }
   ],
   "source": [
    "reaction12 = Reaction ('xanthohumol')\n",
    "reaction12.name = 'xanthohumol'\n",
    "reaction12.lower_bound = 0.\n",
    "reaction12.upper_bound = 1000.\n",
    "\n",
    "desmethylxanthohumol_c = Metabolite(\n",
    "    'xanthohumol_c',\n",
    "    formula = 'C21H22O5',\n",
    "    name = 'xanthohumol',\n",
    "    compartment = 'c')\n",
    "\n",
    "reaction12.add_metabolites({\n",
    "    iB21_1397.metabolites.desmethylxanthohumol_c: -1.0,\n",
    "    iB21_1397.metabolites.dmpp_c: -1.0,  \n",
    "    desmethylxanthohumol_c: 1.0\n",
    "})\n",
    "\n",
    "#reaction3.gene_reaction_rule = ''\n",
    "\n",
    "reaction12.reaction"
   ]
  },
  {
   "cell_type": "code",
   "execution_count": 27,
   "id": "826b7144-2747-40a3-a5d7-4bdab26c4b8f",
   "metadata": {},
   "outputs": [
    {
     "data": {
      "text/html": [
       "\n",
       "        <table>\n",
       "            <tr>\n",
       "                <td><strong>Reaction identifier</strong></td><td>xanthohumol</td>\n",
       "            </tr><tr>\n",
       "                <td><strong>Name</strong></td><td>xanthohumol</td>\n",
       "            </tr><tr>\n",
       "                <td><strong>Memory address</strong></td>\n",
       "                <td>0x07fa2e1cdeee0</td>\n",
       "            </tr><tr>\n",
       "                <td><strong>Stoichiometry</strong></td>\n",
       "                <td>\n",
       "                    <p style='text-align:right'>desmethylxanthohumol_c + dmpp_c --> xanthohumol_c</p>\n",
       "                    <p style='text-align:right'>desmethylxanthohumol + Dimethylallyl diphosphate --> xanthohumol</p>\n",
       "                </td>\n",
       "            </tr><tr>\n",
       "                <td><strong>GPR</strong></td><td></td>\n",
       "            </tr><tr>\n",
       "                <td><strong>Lower bound</strong></td><td>0.0</td>\n",
       "            </tr><tr>\n",
       "                <td><strong>Upper bound</strong></td><td>1000.0</td>\n",
       "            </tr>\n",
       "        </table>\n",
       "        "
      ],
      "text/plain": [
       "<Reaction xanthohumol at 0x7fa2e1cdeee0>"
      ]
     },
     "execution_count": 27,
     "metadata": {},
     "output_type": "execute_result"
    }
   ],
   "source": [
    "iB21_1397.add_reaction(reaction12)\n",
    "iB21_1397.reactions.xanthohumol"
   ]
  },
  {
   "cell_type": "markdown",
   "id": "c9d7d6e4-902c-411e-80d1-52109750046b",
   "metadata": {},
   "source": [
    "#####  naringenin chalcone -> naringenin"
   ]
  },
  {
   "cell_type": "code",
   "execution_count": 28,
   "id": "5bf296a2-9e59-4332-a91c-0d8e4b3b89b6",
   "metadata": {},
   "outputs": [
    {
     "data": {
      "text/plain": [
       "'naringeninchalcone_c --> naringenin_c'"
      ]
     },
     "execution_count": 28,
     "metadata": {},
     "output_type": "execute_result"
    }
   ],
   "source": [
    "reaction13 = Reaction ('naringenin')\n",
    "reaction13.name = 'naringenin'\n",
    "reaction13.lower_bound = 0.\n",
    "reaction13.upper_bound = 1000.\n",
    "\n",
    "naringenin_c = Metabolite(\n",
    "    'naringenin_c',\n",
    "    formula = 'C15H12O5',\n",
    "    name = 'naringenin',\n",
    "    compartment = 'c')\n",
    "\n",
    "reaction13.add_metabolites({\n",
    "    iB21_1397.metabolites.naringeninchalcone_c: -1.0,\n",
    "    naringenin_c: 1.0\n",
    "})\n",
    "\n",
    "#reaction3.gene_reaction_rule = ''\n",
    "\n",
    "reaction13.reaction"
   ]
  },
  {
   "cell_type": "code",
   "execution_count": 29,
   "id": "d04959cf-4288-4d2c-93f0-840bad8ae678",
   "metadata": {},
   "outputs": [
    {
     "data": {
      "text/html": [
       "\n",
       "        <table>\n",
       "            <tr>\n",
       "                <td><strong>Reaction identifier</strong></td><td>naringenin</td>\n",
       "            </tr><tr>\n",
       "                <td><strong>Name</strong></td><td>naringenin</td>\n",
       "            </tr><tr>\n",
       "                <td><strong>Memory address</strong></td>\n",
       "                <td>0x07fa2e1d341c0</td>\n",
       "            </tr><tr>\n",
       "                <td><strong>Stoichiometry</strong></td>\n",
       "                <td>\n",
       "                    <p style='text-align:right'>naringeninchalcone_c --> naringenin_c</p>\n",
       "                    <p style='text-align:right'>naringenin_chalcone --> naringenin</p>\n",
       "                </td>\n",
       "            </tr><tr>\n",
       "                <td><strong>GPR</strong></td><td></td>\n",
       "            </tr><tr>\n",
       "                <td><strong>Lower bound</strong></td><td>0.0</td>\n",
       "            </tr><tr>\n",
       "                <td><strong>Upper bound</strong></td><td>1000.0</td>\n",
       "            </tr>\n",
       "        </table>\n",
       "        "
      ],
      "text/plain": [
       "<Reaction naringenin at 0x7fa2e1d341c0>"
      ]
     },
     "execution_count": 29,
     "metadata": {},
     "output_type": "execute_result"
    }
   ],
   "source": [
    "iB21_1397.add_reaction(reaction13)\n",
    "iB21_1397.reactions.naringenin"
   ]
  },
  {
   "cell_type": "markdown",
   "id": "4ab967c4-d61d-4a2e-bf08-18ac1ec377e9",
   "metadata": {},
   "source": [
    "#####  naringenin -> 8-prenylnaringenin"
   ]
  },
  {
   "cell_type": "code",
   "execution_count": 30,
   "id": "84f9c9d0-d1c1-4ddb-ae54-ad15641ac6f2",
   "metadata": {},
   "outputs": [
    {
     "data": {
      "text/plain": [
       "'dmpp_c + naringenin_c --> prenylnaringenin_c'"
      ]
     },
     "execution_count": 30,
     "metadata": {},
     "output_type": "execute_result"
    }
   ],
   "source": [
    "reaction14 = Reaction ('prenylnaringenin')\n",
    "reaction14.name = '8-prenylnaringenin '\n",
    "reaction14.lower_bound = 0.\n",
    "reaction14.upper_bound = 1000.\n",
    "\n",
    "prenylnaringenin_c = Metabolite(\n",
    "    'prenylnaringenin_c',\n",
    "    formula = 'C20H20O5',\n",
    "    name = '8-prenylnaringenin',\n",
    "    compartment = 'c')\n",
    "\n",
    "reaction14.add_metabolites({\n",
    "    iB21_1397.metabolites.naringenin_c: -1.0,\n",
    "    iB21_1397.metabolites.dmpp_c: -1.0,\n",
    "    prenylnaringenin_c: 1.0\n",
    "})\n",
    "\n",
    "#reaction3.gene_reaction_rule = '4CL1'\n",
    "\n",
    "reaction14.reaction"
   ]
  },
  {
   "cell_type": "code",
   "execution_count": 31,
   "id": "6c8496aa-2388-4f93-a8d4-36b491c067b6",
   "metadata": {},
   "outputs": [
    {
     "data": {
      "text/html": [
       "\n",
       "        <table>\n",
       "            <tr>\n",
       "                <td><strong>Reaction identifier</strong></td><td>prenylnaringenin</td>\n",
       "            </tr><tr>\n",
       "                <td><strong>Name</strong></td><td>8-prenylnaringenin</td>\n",
       "            </tr><tr>\n",
       "                <td><strong>Memory address</strong></td>\n",
       "                <td>0x07fa2e1cde970</td>\n",
       "            </tr><tr>\n",
       "                <td><strong>Stoichiometry</strong></td>\n",
       "                <td>\n",
       "                    <p style='text-align:right'>dmpp_c + naringenin_c --> prenylnaringenin_c</p>\n",
       "                    <p style='text-align:right'>Dimethylallyl diphosphate + naringenin --> 8-prenylnaringenin</p>\n",
       "                </td>\n",
       "            </tr><tr>\n",
       "                <td><strong>GPR</strong></td><td></td>\n",
       "            </tr><tr>\n",
       "                <td><strong>Lower bound</strong></td><td>0.0</td>\n",
       "            </tr><tr>\n",
       "                <td><strong>Upper bound</strong></td><td>1000.0</td>\n",
       "            </tr>\n",
       "        </table>\n",
       "        "
      ],
      "text/plain": [
       "<Reaction prenylnaringenin at 0x7fa2e1cde970>"
      ]
     },
     "execution_count": 31,
     "metadata": {},
     "output_type": "execute_result"
    }
   ],
   "source": [
    "iB21_1397.add_reaction(reaction14)\n",
    "iB21_1397.reactions.prenylnaringenin"
   ]
  },
  {
   "cell_type": "markdown",
   "id": "c3b48a0b",
   "metadata": {},
   "source": [
    "### Drains"
   ]
  },
  {
   "cell_type": "code",
   "execution_count": 32,
   "id": "172d5cda",
   "metadata": {},
   "outputs": [],
   "source": [
    "Drain1 = Reaction('xanthotoxin_e')\n",
    "Drain1.name = 'xanthotoxin exchange' \n",
    "Drain1.lower_bound = 0.\n",
    "Drain1.upper_bound = 1000.\n",
    "\n",
    "Drain1.add_metabolites({\n",
    "    iB21_1397.metabolites.xanthotoxin_c: -1.0,\n",
    "\n",
    "})\n",
    "\n",
    "iB21_1397.add_reaction(Drain1)"
   ]
  },
  {
   "cell_type": "code",
   "execution_count": 33,
   "id": "1065a5a3",
   "metadata": {},
   "outputs": [],
   "source": [
    "Drain2 = Reaction('xanthohumol_e')\n",
    "Drain2.name = 'xanthohumol exchange' \n",
    "Drain2.lower_bound = 0.\n",
    "Drain2.upper_bound = 1000.\n",
    "\n",
    "Drain2.add_metabolites({\n",
    "    iB21_1397.metabolites.xanthohumol_c: -1.0,\n",
    "\n",
    "})\n",
    "\n",
    "iB21_1397.add_reaction(Drain2)"
   ]
  },
  {
   "cell_type": "code",
   "execution_count": 34,
   "id": "c4faa61c",
   "metadata": {},
   "outputs": [],
   "source": [
    "Drain3 = Reaction('prenylnaringenin_e')\n",
    "Drain3.name = 'prenylnaringenin exchange' \n",
    "Drain3.lower_bound = 0.\n",
    "Drain3.upper_bound = 1000.\n",
    "\n",
    "Drain3.add_metabolites({\n",
    "    iB21_1397.metabolites.prenylnaringenin_c: -1.0,\n",
    "\n",
    "})\n",
    "\n",
    "iB21_1397.add_reaction(Drain3)"
   ]
  },
  {
   "cell_type": "markdown",
   "id": "ed8f0d29",
   "metadata": {},
   "source": [
    "### Validating the model"
   ]
  },
  {
   "cell_type": "code",
   "execution_count": 35,
   "id": "fcdfa7b4",
   "metadata": {},
   "outputs": [
    {
     "name": "stdout",
     "output_type": "stream",
     "text": [
      "(<Model iB21_1397 at 0x7fa2e1ca0280>,\n",
      " {'COBRA_CHECK': [],\n",
      "  'COBRA_ERROR': [],\n",
      "  'COBRA_FATAL': [],\n",
      "  'COBRA_WARNING': [],\n",
      "  'SBML_ERROR': [],\n",
      "  'SBML_FATAL': [],\n",
      "  'SBML_SCHEMA_ERROR': [],\n",
      "  'SBML_WARNING': []})\n"
     ]
    }
   ],
   "source": [
    "with tempfile.NamedTemporaryFile(suffix='.xml') as f_sbml:\n",
    "    write_sbml_model(iB21_1397, filename=f_sbml.name)\n",
    "    report = validate_sbml_model(filename=f_sbml.name)\n",
    "pprint(report)"
   ]
  },
  {
   "cell_type": "markdown",
   "id": "1dc85132-2a6d-4232-a99c-5ba2b8f3600d",
   "metadata": {},
   "source": [
    "### Writing the reactions in the xml file"
   ]
  },
  {
   "cell_type": "code",
   "execution_count": 36,
   "id": "d65519c2-765e-419f-b498-7906db97c6eb",
   "metadata": {},
   "outputs": [],
   "source": [
    "cobra.io.write_sbml_model(iB21_1397, \"iB21_1397_new.xml\")"
   ]
  },
  {
   "cell_type": "code",
   "execution_count": 37,
   "id": "10f6f9ce",
   "metadata": {},
   "outputs": [],
   "source": [
    "model = cobra.io.read_sbml_model('iB21_1397_new.xml')"
   ]
  },
  {
   "cell_type": "markdown",
   "id": "9b25aee3",
   "metadata": {},
   "source": [
    "### Simulation"
   ]
  },
  {
   "cell_type": "code",
   "execution_count": 38,
   "id": "6072c26c",
   "metadata": {},
   "outputs": [
    {
     "data": {
      "text/html": [
       "<h3>Objective</h3><p>1.0 BIOMASS_Ec_iJO1366_core_53p95M = 0.9756145115851285</p><h4>Uptake</h4><table border=\"1\" class=\"dataframe\">\n",
       "  <thead>\n",
       "    <tr style=\"text-align: right;\">\n",
       "      <th>Metabolite</th>\n",
       "      <th>Reaction</th>\n",
       "      <th>Flux</th>\n",
       "      <th>C-Number</th>\n",
       "      <th>C-Flux</th>\n",
       "    </tr>\n",
       "  </thead>\n",
       "  <tbody>\n",
       "    <tr>\n",
       "      <td>ca2_e</td>\n",
       "      <td>EX_ca2_e</td>\n",
       "      <td>0.005078</td>\n",
       "      <td>0</td>\n",
       "      <td>0.00%</td>\n",
       "    </tr>\n",
       "    <tr>\n",
       "      <td>cl_e</td>\n",
       "      <td>EX_cl_e</td>\n",
       "      <td>0.005078</td>\n",
       "      <td>0</td>\n",
       "      <td>0.00%</td>\n",
       "    </tr>\n",
       "    <tr>\n",
       "      <td>cobalt2_e</td>\n",
       "      <td>EX_cobalt2_e</td>\n",
       "      <td>2.439E-05</td>\n",
       "      <td>0</td>\n",
       "      <td>0.00%</td>\n",
       "    </tr>\n",
       "    <tr>\n",
       "      <td>cu2_e</td>\n",
       "      <td>EX_cu2_e</td>\n",
       "      <td>0.0006917</td>\n",
       "      <td>0</td>\n",
       "      <td>0.00%</td>\n",
       "    </tr>\n",
       "    <tr>\n",
       "      <td>fe2_e</td>\n",
       "      <td>EX_fe2_e</td>\n",
       "      <td>0.01567</td>\n",
       "      <td>0</td>\n",
       "      <td>0.00%</td>\n",
       "    </tr>\n",
       "    <tr>\n",
       "      <td>glc__D_e</td>\n",
       "      <td>EX_glc__D_e</td>\n",
       "      <td>10</td>\n",
       "      <td>6</td>\n",
       "      <td>100.00%</td>\n",
       "    </tr>\n",
       "    <tr>\n",
       "      <td>k_e</td>\n",
       "      <td>EX_k_e</td>\n",
       "      <td>0.1904</td>\n",
       "      <td>0</td>\n",
       "      <td>0.00%</td>\n",
       "    </tr>\n",
       "    <tr>\n",
       "      <td>mg2_e</td>\n",
       "      <td>EX_mg2_e</td>\n",
       "      <td>0.008463</td>\n",
       "      <td>0</td>\n",
       "      <td>0.00%</td>\n",
       "    </tr>\n",
       "    <tr>\n",
       "      <td>mn2_e</td>\n",
       "      <td>EX_mn2_e</td>\n",
       "      <td>0.0006741</td>\n",
       "      <td>0</td>\n",
       "      <td>0.00%</td>\n",
       "    </tr>\n",
       "    <tr>\n",
       "      <td>mobd_e</td>\n",
       "      <td>EX_mobd_e</td>\n",
       "      <td>0.0001259</td>\n",
       "      <td>0</td>\n",
       "      <td>0.00%</td>\n",
       "    </tr>\n",
       "    <tr>\n",
       "      <td>nh4_e</td>\n",
       "      <td>EX_nh4_e</td>\n",
       "      <td>10.54</td>\n",
       "      <td>0</td>\n",
       "      <td>0.00%</td>\n",
       "    </tr>\n",
       "    <tr>\n",
       "      <td>ni2_e</td>\n",
       "      <td>EX_ni2_e</td>\n",
       "      <td>0.0003151</td>\n",
       "      <td>0</td>\n",
       "      <td>0.00%</td>\n",
       "    </tr>\n",
       "    <tr>\n",
       "      <td>o2_e</td>\n",
       "      <td>EX_o2_e</td>\n",
       "      <td>17.87</td>\n",
       "      <td>0</td>\n",
       "      <td>0.00%</td>\n",
       "    </tr>\n",
       "    <tr>\n",
       "      <td>pi_e</td>\n",
       "      <td>EX_pi_e</td>\n",
       "      <td>0.9411</td>\n",
       "      <td>0</td>\n",
       "      <td>0.00%</td>\n",
       "    </tr>\n",
       "    <tr>\n",
       "      <td>so4_e</td>\n",
       "      <td>EX_so4_e</td>\n",
       "      <td>0.2461</td>\n",
       "      <td>0</td>\n",
       "      <td>0.00%</td>\n",
       "    </tr>\n",
       "    <tr>\n",
       "      <td>zn2_e</td>\n",
       "      <td>EX_zn2_e</td>\n",
       "      <td>0.0003327</td>\n",
       "      <td>0</td>\n",
       "      <td>0.00%</td>\n",
       "    </tr>\n",
       "  </tbody>\n",
       "</table><h4>Secretion</h4><table border=\"1\" class=\"dataframe\">\n",
       "  <thead>\n",
       "    <tr style=\"text-align: right;\">\n",
       "      <th>Metabolite</th>\n",
       "      <th>Reaction</th>\n",
       "      <th>Flux</th>\n",
       "      <th>C-Number</th>\n",
       "      <th>C-Flux</th>\n",
       "    </tr>\n",
       "  </thead>\n",
       "  <tbody>\n",
       "    <tr>\n",
       "      <td>4crsol_c</td>\n",
       "      <td>DM_4crsol_c</td>\n",
       "      <td>-0.0002176</td>\n",
       "      <td>7</td>\n",
       "      <td>0.01%</td>\n",
       "    </tr>\n",
       "    <tr>\n",
       "      <td>5drib_c</td>\n",
       "      <td>DM_5drib_c</td>\n",
       "      <td>-0.0002195</td>\n",
       "      <td>5</td>\n",
       "      <td>0.01%</td>\n",
       "    </tr>\n",
       "    <tr>\n",
       "      <td>amob_c</td>\n",
       "      <td>DM_amob_c</td>\n",
       "      <td>-1.951E-06</td>\n",
       "      <td>15</td>\n",
       "      <td>0.00%</td>\n",
       "    </tr>\n",
       "    <tr>\n",
       "      <td>mththf_c</td>\n",
       "      <td>DM_mththf_c</td>\n",
       "      <td>-0.0004371</td>\n",
       "      <td>5</td>\n",
       "      <td>0.01%</td>\n",
       "    </tr>\n",
       "    <tr>\n",
       "      <td>co2_e</td>\n",
       "      <td>EX_co2_e</td>\n",
       "      <td>-19.95</td>\n",
       "      <td>1</td>\n",
       "      <td>99.98%</td>\n",
       "    </tr>\n",
       "    <tr>\n",
       "      <td>h2o_e</td>\n",
       "      <td>EX_h2o_e</td>\n",
       "      <td>-45.72</td>\n",
       "      <td>0</td>\n",
       "      <td>0.00%</td>\n",
       "    </tr>\n",
       "    <tr>\n",
       "      <td>h_e</td>\n",
       "      <td>EX_h_e</td>\n",
       "      <td>-8.964</td>\n",
       "      <td>0</td>\n",
       "      <td>0.00%</td>\n",
       "    </tr>\n",
       "    <tr>\n",
       "      <td>meoh_e</td>\n",
       "      <td>EX_meoh_e</td>\n",
       "      <td>-1.951E-06</td>\n",
       "      <td>1</td>\n",
       "      <td>0.00%</td>\n",
       "    </tr>\n",
       "  </tbody>\n",
       "</table>"
      ],
      "text/plain": [
       "<cobra.summary.model_summary.ModelSummary at 0x7fa2d45ded00>"
      ]
     },
     "execution_count": 38,
     "metadata": {},
     "output_type": "execute_result"
    }
   ],
   "source": [
    "model.summary()"
   ]
  },
  {
   "cell_type": "code",
   "execution_count": 39,
   "id": "9999a598",
   "metadata": {},
   "outputs": [
    {
     "data": {
      "text/html": [
       "<strong><em>Optimal</em> solution with objective value 0.976</strong><br><div>\n",
       "<style scoped>\n",
       "    .dataframe tbody tr th:only-of-type {\n",
       "        vertical-align: middle;\n",
       "    }\n",
       "\n",
       "    .dataframe tbody tr th {\n",
       "        vertical-align: top;\n",
       "    }\n",
       "\n",
       "    .dataframe thead th {\n",
       "        text-align: right;\n",
       "    }\n",
       "</style>\n",
       "<table border=\"1\" class=\"dataframe\">\n",
       "  <thead>\n",
       "    <tr style=\"text-align: right;\">\n",
       "      <th></th>\n",
       "      <th>fluxes</th>\n",
       "      <th>reduced_costs</th>\n",
       "    </tr>\n",
       "  </thead>\n",
       "  <tbody>\n",
       "    <tr>\n",
       "      <th>3HAD161</th>\n",
       "      <td>0.0</td>\n",
       "      <td>0.000000</td>\n",
       "    </tr>\n",
       "    <tr>\n",
       "      <th>EX_6apa_e</th>\n",
       "      <td>0.0</td>\n",
       "      <td>0.000000</td>\n",
       "    </tr>\n",
       "    <tr>\n",
       "      <th>4H3NALDD</th>\n",
       "      <td>0.0</td>\n",
       "      <td>0.000000</td>\n",
       "    </tr>\n",
       "    <tr>\n",
       "      <th>SALCNtex</th>\n",
       "      <td>0.0</td>\n",
       "      <td>-0.000000</td>\n",
       "    </tr>\n",
       "    <tr>\n",
       "      <th>ENLIPIDAt2ex</th>\n",
       "      <td>0.0</td>\n",
       "      <td>0.000000</td>\n",
       "    </tr>\n",
       "    <tr>\n",
       "      <th>...</th>\n",
       "      <td>...</td>\n",
       "      <td>...</td>\n",
       "    </tr>\n",
       "    <tr>\n",
       "      <th>naringenin</th>\n",
       "      <td>0.0</td>\n",
       "      <td>0.000000</td>\n",
       "    </tr>\n",
       "    <tr>\n",
       "      <th>prenylnaringenin</th>\n",
       "      <td>0.0</td>\n",
       "      <td>-3.570732</td>\n",
       "    </tr>\n",
       "    <tr>\n",
       "      <th>xanthotoxin_e</th>\n",
       "      <td>0.0</td>\n",
       "      <td>0.000000</td>\n",
       "    </tr>\n",
       "    <tr>\n",
       "      <th>xanthohumol_e</th>\n",
       "      <td>0.0</td>\n",
       "      <td>0.000000</td>\n",
       "    </tr>\n",
       "    <tr>\n",
       "      <th>prenylnaringenin_e</th>\n",
       "      <td>0.0</td>\n",
       "      <td>0.000000</td>\n",
       "    </tr>\n",
       "  </tbody>\n",
       "</table>\n",
       "<p>2758 rows × 2 columns</p>\n",
       "</div>"
      ],
      "text/plain": [
       "<Solution 0.976 at 0x7fa2e2866c70>"
      ]
     },
     "execution_count": 39,
     "metadata": {},
     "output_type": "execute_result"
    }
   ],
   "source": [
    "model.optimize()"
   ]
  },
  {
   "cell_type": "code",
   "execution_count": 40,
   "id": "d222d00b",
   "metadata": {},
   "outputs": [
    {
     "data": {
      "text/latex": [
       "$\\displaystyle 1.0 BIOMASS_{Ec iJO1366 core 53p95M} - 1.0 BIOMASS_{Ec iJO1366 core 53p95M reverse 5c8b1}$"
      ],
      "text/plain": [
       "1.0*BIOMASS_Ec_iJO1366_core_53p95M - 1.0*BIOMASS_Ec_iJO1366_core_53p95M_reverse_5c8b1"
      ]
     },
     "execution_count": 40,
     "metadata": {},
     "output_type": "execute_result"
    }
   ],
   "source": [
    "model.objective.expression"
   ]
  }
 ],
 "metadata": {
  "kernelspec": {
   "display_name": "Python 3",
   "language": "python",
   "name": "python3"
  },
  "language_info": {
   "codemirror_mode": {
    "name": "ipython",
    "version": 3
   },
   "file_extension": ".py",
   "mimetype": "text/x-python",
   "name": "python",
   "nbconvert_exporter": "python",
   "pygments_lexer": "ipython3",
   "version": "3.8.8"
  }
 },
 "nbformat": 4,
 "nbformat_minor": 5
}
