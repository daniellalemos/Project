{
 "cells": [
  {
   "cell_type": "markdown",
   "id": "1df3046b-0549-4c52-8198-16da933240f4",
   "metadata": {},
   "source": [
    "## Xanthotoxin simulations"
   ]
  },
  {
   "cell_type": "code",
   "execution_count": 1,
   "id": "112118d4-f6db-45ac-8396-37c9d48d594e",
   "metadata": {},
   "outputs": [
    {
     "name": "stdout",
     "output_type": "stream",
     "text": [
      "Set parameter Username\n",
      "Academic license - for non-commercial use only - expires 2022-12-11\n"
     ]
    }
   ],
   "source": [
    "import cobra \n",
    "import mewpy\n",
    "from mewpy.simulation import get_simulator\n",
    "from mewpy.simulation import SimulationMethod"
   ]
  },
  {
   "cell_type": "markdown",
   "id": "c942e182-4340-4c9c-876e-2faba512a8bd",
   "metadata": {},
   "source": [
    "### Simulations of the flux of xanthotoxin in all the models"
   ]
  },
  {
   "cell_type": "markdown",
   "id": "88f0a5d6-f779-4b6f-a0b2-a5642fe42d52",
   "metadata": {},
   "source": [
    "#### Model iB21_1397"
   ]
  },
  {
   "cell_type": "code",
   "execution_count": 2,
   "id": "c1a953a3-c917-423b-a010-aef1bd9692f1",
   "metadata": {},
   "outputs": [],
   "source": [
    "model1 = cobra.io.read_sbml_model('iB21_1397_new.xml')"
   ]
  },
  {
   "cell_type": "markdown",
   "id": "ec35209c-ecfa-4a47-81a9-d6cf3d6ab717",
   "metadata": {},
   "source": [
    "##### Modification of the objective function"
   ]
  },
  {
   "cell_type": "code",
   "execution_count": 3,
   "id": "edf65131-bb54-4c26-84c5-4049b8b58ca6",
   "metadata": {},
   "outputs": [],
   "source": [
    "objective1 = model1.problem.Objective(\n",
    "    model1.reactions.xanthotoxin_e.flux_expression,\n",
    "    direction = 'max')"
   ]
  },
  {
   "cell_type": "code",
   "execution_count": 4,
   "id": "5c545976-7390-47d2-8f8f-a299c4f4dc09",
   "metadata": {},
   "outputs": [],
   "source": [
    "model1.objective = objective1 "
   ]
  },
  {
   "cell_type": "code",
   "execution_count": 5,
   "id": "9679d532-bea4-4d8d-88ad-4020fe9328fa",
   "metadata": {},
   "outputs": [
    {
     "data": {
      "text/latex": [
       "$\\displaystyle 1.0 xanthotoxin_{e} - 1.0 xanthotoxin_{e reverse 0f468}$"
      ],
      "text/plain": [
       "1.0*xanthotoxin_e - 1.0*xanthotoxin_e_reverse_0f468"
      ]
     },
     "execution_count": 5,
     "metadata": {},
     "output_type": "execute_result"
    }
   ],
   "source": [
    "model1.objective.expression"
   ]
  },
  {
   "cell_type": "code",
   "execution_count": 6,
   "id": "a608a5e3-e4a4-4c8f-afa5-f5872b088d5f",
   "metadata": {},
   "outputs": [
    {
     "data": {
      "text/html": [
       "<h3>Objective</h3><p>1.0 xanthotoxin_e = 1.5248049921996878</p><h4>Uptake</h4><table border=\"1\" class=\"dataframe\">\n",
       "  <thead>\n",
       "    <tr style=\"text-align: right;\">\n",
       "      <th>Metabolite</th>\n",
       "      <th>Reaction</th>\n",
       "      <th>Flux</th>\n",
       "      <th>C-Number</th>\n",
       "      <th>C-Flux</th>\n",
       "    </tr>\n",
       "  </thead>\n",
       "  <tbody>\n",
       "    <tr>\n",
       "      <td>glc__D_e</td>\n",
       "      <td>EX_glc__D_e</td>\n",
       "      <td>10</td>\n",
       "      <td>6</td>\n",
       "      <td>100.00%</td>\n",
       "    </tr>\n",
       "    <tr>\n",
       "      <td>nh4_e</td>\n",
       "      <td>EX_nh4_e</td>\n",
       "      <td>10.67</td>\n",
       "      <td>0</td>\n",
       "      <td>0.00%</td>\n",
       "    </tr>\n",
       "    <tr>\n",
       "      <td>o2_e</td>\n",
       "      <td>EX_o2_e</td>\n",
       "      <td>11.97</td>\n",
       "      <td>0</td>\n",
       "      <td>0.00%</td>\n",
       "    </tr>\n",
       "    <tr>\n",
       "      <td>pi_e</td>\n",
       "      <td>EX_pi_e</td>\n",
       "      <td>3.05</td>\n",
       "      <td>0</td>\n",
       "      <td>0.00%</td>\n",
       "    </tr>\n",
       "    <tr>\n",
       "      <td>so4_e</td>\n",
       "      <td>EX_so4_e</td>\n",
       "      <td>1.525</td>\n",
       "      <td>0</td>\n",
       "      <td>0.00%</td>\n",
       "    </tr>\n",
       "  </tbody>\n",
       "</table><h4>Secretion</h4><table border=\"1\" class=\"dataframe\">\n",
       "  <thead>\n",
       "    <tr style=\"text-align: right;\">\n",
       "      <th>Metabolite</th>\n",
       "      <th>Reaction</th>\n",
       "      <th>Flux</th>\n",
       "      <th>C-Number</th>\n",
       "      <th>C-Flux</th>\n",
       "    </tr>\n",
       "  </thead>\n",
       "  <tbody>\n",
       "    <tr>\n",
       "      <td>co2_e</td>\n",
       "      <td>EX_co2_e</td>\n",
       "      <td>-15.78</td>\n",
       "      <td>1</td>\n",
       "      <td>46.31%</td>\n",
       "    </tr>\n",
       "    <tr>\n",
       "      <td>h2o_e</td>\n",
       "      <td>EX_h2o_e</td>\n",
       "      <td>-47.8</td>\n",
       "      <td>0</td>\n",
       "      <td>0.00%</td>\n",
       "    </tr>\n",
       "    <tr>\n",
       "      <td>h_e</td>\n",
       "      <td>EX_h_e</td>\n",
       "      <td>-4.574</td>\n",
       "      <td>0</td>\n",
       "      <td>0.00%</td>\n",
       "    </tr>\n",
       "    <tr>\n",
       "      <td>xanthotoxin_c</td>\n",
       "      <td>xanthotoxin_e</td>\n",
       "      <td>-1.525</td>\n",
       "      <td>12</td>\n",
       "      <td>53.69%</td>\n",
       "    </tr>\n",
       "  </tbody>\n",
       "</table>"
      ],
      "text/plain": [
       "<cobra.summary.model_summary.ModelSummary at 0x7fd53b0cc040>"
      ]
     },
     "execution_count": 6,
     "metadata": {},
     "output_type": "execute_result"
    }
   ],
   "source": [
    "model1.summary()"
   ]
  },
  {
   "cell_type": "code",
   "execution_count": 7,
   "id": "7e3537f0-69b6-4116-a366-b64ef5857a3d",
   "metadata": {},
   "outputs": [
    {
     "data": {
      "text/html": [
       "<strong><em>Optimal</em> solution with objective value 1.525</strong><br><div>\n",
       "<style scoped>\n",
       "    .dataframe tbody tr th:only-of-type {\n",
       "        vertical-align: middle;\n",
       "    }\n",
       "\n",
       "    .dataframe tbody tr th {\n",
       "        vertical-align: top;\n",
       "    }\n",
       "\n",
       "    .dataframe thead th {\n",
       "        text-align: right;\n",
       "    }\n",
       "</style>\n",
       "<table border=\"1\" class=\"dataframe\">\n",
       "  <thead>\n",
       "    <tr style=\"text-align: right;\">\n",
       "      <th></th>\n",
       "      <th>fluxes</th>\n",
       "      <th>reduced_costs</th>\n",
       "    </tr>\n",
       "  </thead>\n",
       "  <tbody>\n",
       "    <tr>\n",
       "      <th>3HAD161</th>\n",
       "      <td>0.000000</td>\n",
       "      <td>0.0</td>\n",
       "    </tr>\n",
       "    <tr>\n",
       "      <th>EX_6apa_e</th>\n",
       "      <td>0.000000</td>\n",
       "      <td>0.0</td>\n",
       "    </tr>\n",
       "    <tr>\n",
       "      <th>4H3NALDD</th>\n",
       "      <td>0.000000</td>\n",
       "      <td>0.0</td>\n",
       "    </tr>\n",
       "    <tr>\n",
       "      <th>SALCNtex</th>\n",
       "      <td>0.000000</td>\n",
       "      <td>0.0</td>\n",
       "    </tr>\n",
       "    <tr>\n",
       "      <th>ENLIPIDAt2ex</th>\n",
       "      <td>0.000000</td>\n",
       "      <td>0.0</td>\n",
       "    </tr>\n",
       "    <tr>\n",
       "      <th>...</th>\n",
       "      <td>...</td>\n",
       "      <td>...</td>\n",
       "    </tr>\n",
       "    <tr>\n",
       "      <th>naringenin</th>\n",
       "      <td>0.000000</td>\n",
       "      <td>0.0</td>\n",
       "    </tr>\n",
       "    <tr>\n",
       "      <th>prenylnaringenin</th>\n",
       "      <td>0.000000</td>\n",
       "      <td>0.0</td>\n",
       "    </tr>\n",
       "    <tr>\n",
       "      <th>xanthotoxin_e</th>\n",
       "      <td>1.524805</td>\n",
       "      <td>0.0</td>\n",
       "    </tr>\n",
       "    <tr>\n",
       "      <th>xanthohumol_e</th>\n",
       "      <td>0.000000</td>\n",
       "      <td>0.0</td>\n",
       "    </tr>\n",
       "    <tr>\n",
       "      <th>prenylnaringenin_e</th>\n",
       "      <td>0.000000</td>\n",
       "      <td>0.0</td>\n",
       "    </tr>\n",
       "  </tbody>\n",
       "</table>\n",
       "<p>2758 rows × 2 columns</p>\n",
       "</div>"
      ],
      "text/plain": [
       "<Solution 1.525 at 0x7fd4f8250d90>"
      ]
     },
     "execution_count": 7,
     "metadata": {},
     "output_type": "execute_result"
    }
   ],
   "source": [
    "model1.optimize()"
   ]
  },
  {
   "cell_type": "code",
   "execution_count": 8,
   "id": "e1ad7f3e-7796-46a2-b59d-37f6b7bad6ff",
   "metadata": {},
   "outputs": [
    {
     "data": {
      "text/plain": [
       "1.5248049921996878"
      ]
     },
     "execution_count": 8,
     "metadata": {},
     "output_type": "execute_result"
    }
   ],
   "source": [
    "obj_val1 = model1.optimize().objective_value\n",
    "obj_val1"
   ]
  },
  {
   "cell_type": "markdown",
   "id": "1e7832bd-1bb1-4ab1-b604-fb3d6449b9b8",
   "metadata": {},
   "source": [
    "#### Model iJO1366"
   ]
  },
  {
   "cell_type": "code",
   "execution_count": 3,
   "id": "da8919c6-ddd0-44a9-bda0-9fecd0a89ff7",
   "metadata": {},
   "outputs": [],
   "source": [
    "model2 = cobra.io.read_sbml_model('iJO1366_new.xml')"
   ]
  },
  {
   "cell_type": "markdown",
   "id": "eb0e0a7d-e2eb-48ef-8f22-a7dfc6dfd862",
   "metadata": {},
   "source": [
    "##### Modification of the objective function"
   ]
  },
  {
   "cell_type": "code",
   "execution_count": 10,
   "id": "e04fbfe3-e62f-4a31-b81d-7f02dd3043cc",
   "metadata": {},
   "outputs": [],
   "source": [
    "objective2 = model2.problem.Objective(\n",
    "    model2.reactions.xanthotoxin_e.flux_expression,\n",
    "    direction = 'max')"
   ]
  },
  {
   "cell_type": "code",
   "execution_count": 11,
   "id": "ca33785d-8325-45cb-9204-6d27e358d6ff",
   "metadata": {},
   "outputs": [],
   "source": [
    "model2.objective = objective2 "
   ]
  },
  {
   "cell_type": "code",
   "execution_count": 12,
   "id": "c7a71afa-7d1b-4823-ad1c-5dff1a3115ba",
   "metadata": {},
   "outputs": [
    {
     "data": {
      "text/latex": [
       "$\\displaystyle 1.0 xanthotoxin_{e} - 1.0 xanthotoxin_{e reverse 0f468}$"
      ],
      "text/plain": [
       "1.0*xanthotoxin_e - 1.0*xanthotoxin_e_reverse_0f468"
      ]
     },
     "execution_count": 12,
     "metadata": {},
     "output_type": "execute_result"
    }
   ],
   "source": [
    "model2.objective.expression"
   ]
  },
  {
   "cell_type": "code",
   "execution_count": 13,
   "id": "439b3c7d-1b73-4f19-aac8-4f9b22d483f3",
   "metadata": {},
   "outputs": [
    {
     "data": {
      "text/html": [
       "<h3>Objective</h3><p>1.0 xanthotoxin_e = 1.544134078212291</p><h4>Uptake</h4><table border=\"1\" class=\"dataframe\">\n",
       "  <thead>\n",
       "    <tr style=\"text-align: right;\">\n",
       "      <th>Metabolite</th>\n",
       "      <th>Reaction</th>\n",
       "      <th>Flux</th>\n",
       "      <th>C-Number</th>\n",
       "      <th>C-Flux</th>\n",
       "    </tr>\n",
       "  </thead>\n",
       "  <tbody>\n",
       "    <tr>\n",
       "      <td>glc__D_e</td>\n",
       "      <td>EX_glc__D_e</td>\n",
       "      <td>10</td>\n",
       "      <td>6</td>\n",
       "      <td>100.00%</td>\n",
       "    </tr>\n",
       "    <tr>\n",
       "      <td>nh4_e</td>\n",
       "      <td>EX_nh4_e</td>\n",
       "      <td>10.81</td>\n",
       "      <td>0</td>\n",
       "      <td>0.00%</td>\n",
       "    </tr>\n",
       "    <tr>\n",
       "      <td>o2_e</td>\n",
       "      <td>EX_o2_e</td>\n",
       "      <td>11.36</td>\n",
       "      <td>0</td>\n",
       "      <td>0.00%</td>\n",
       "    </tr>\n",
       "    <tr>\n",
       "      <td>pi_e</td>\n",
       "      <td>EX_pi_e</td>\n",
       "      <td>3.088</td>\n",
       "      <td>0</td>\n",
       "      <td>0.00%</td>\n",
       "    </tr>\n",
       "    <tr>\n",
       "      <td>so4_e</td>\n",
       "      <td>EX_so4_e</td>\n",
       "      <td>1.544</td>\n",
       "      <td>0</td>\n",
       "      <td>0.00%</td>\n",
       "    </tr>\n",
       "  </tbody>\n",
       "</table><h4>Secretion</h4><table border=\"1\" class=\"dataframe\">\n",
       "  <thead>\n",
       "    <tr style=\"text-align: right;\">\n",
       "      <th>Metabolite</th>\n",
       "      <th>Reaction</th>\n",
       "      <th>Flux</th>\n",
       "      <th>C-Number</th>\n",
       "      <th>C-Flux</th>\n",
       "    </tr>\n",
       "  </thead>\n",
       "  <tbody>\n",
       "    <tr>\n",
       "      <td>co2_e</td>\n",
       "      <td>EX_co2_e</td>\n",
       "      <td>-15.22</td>\n",
       "      <td>1</td>\n",
       "      <td>45.10%</td>\n",
       "    </tr>\n",
       "    <tr>\n",
       "      <td>h2o_e</td>\n",
       "      <td>EX_h2o_e</td>\n",
       "      <td>-47.65</td>\n",
       "      <td>0</td>\n",
       "      <td>0.00%</td>\n",
       "    </tr>\n",
       "    <tr>\n",
       "      <td>h_e</td>\n",
       "      <td>EX_h_e</td>\n",
       "      <td>-4.632</td>\n",
       "      <td>0</td>\n",
       "      <td>0.00%</td>\n",
       "    </tr>\n",
       "    <tr>\n",
       "      <td>xanthotoxin_c</td>\n",
       "      <td>xanthotoxin_e</td>\n",
       "      <td>-1.544</td>\n",
       "      <td>12</td>\n",
       "      <td>54.90%</td>\n",
       "    </tr>\n",
       "  </tbody>\n",
       "</table>"
      ],
      "text/plain": [
       "<cobra.summary.model_summary.ModelSummary at 0x7fcd589c6400>"
      ]
     },
     "execution_count": 13,
     "metadata": {},
     "output_type": "execute_result"
    }
   ],
   "source": [
    "model2.summary()"
   ]
  },
  {
   "cell_type": "markdown",
   "id": "ae06faf7-96e7-4133-bc73-09e01134d6a4",
   "metadata": {},
   "source": [
    "#### Model iML1515"
   ]
  },
  {
   "cell_type": "code",
   "execution_count": 14,
   "id": "fa644a30-4ab3-4091-99e1-a500f753cc2d",
   "metadata": {},
   "outputs": [],
   "source": [
    "model3 = cobra.io.read_sbml_model('iML1515_new.xml')"
   ]
  },
  {
   "cell_type": "markdown",
   "id": "362f104c-ea08-4110-acae-d3bac2d2e6c1",
   "metadata": {},
   "source": [
    "##### Modification of the objective function"
   ]
  },
  {
   "cell_type": "code",
   "execution_count": 15,
   "id": "e8169713-8ad8-4638-8992-2bb674407c8e",
   "metadata": {},
   "outputs": [],
   "source": [
    "objective3 = model3.problem.Objective(\n",
    "    model3.reactions.xanthotoxin_e.flux_expression,\n",
    "    direction = 'max')"
   ]
  },
  {
   "cell_type": "code",
   "execution_count": 16,
   "id": "5d5e5c7b-fc46-4763-ac50-312a01edead4",
   "metadata": {},
   "outputs": [],
   "source": [
    "model3.objective = objective3"
   ]
  },
  {
   "cell_type": "code",
   "execution_count": 17,
   "id": "83429b68-9b5f-41bf-a807-2813fc4bdae2",
   "metadata": {},
   "outputs": [
    {
     "data": {
      "text/latex": [
       "$\\displaystyle 1.0 xanthotoxin_{e} - 1.0 xanthotoxin_{e reverse 0f468}$"
      ],
      "text/plain": [
       "1.0*xanthotoxin_e - 1.0*xanthotoxin_e_reverse_0f468"
      ]
     },
     "execution_count": 17,
     "metadata": {},
     "output_type": "execute_result"
    }
   ],
   "source": [
    "model3.objective.expression"
   ]
  },
  {
   "cell_type": "code",
   "execution_count": 18,
   "id": "dcd275cd-2e07-45df-bed5-3e8dd5791d01",
   "metadata": {},
   "outputs": [
    {
     "data": {
      "text/html": [
       "<h3>Objective</h3><p>1.0 xanthotoxin_e = 1.4822424052615089</p><h4>Uptake</h4><table border=\"1\" class=\"dataframe\">\n",
       "  <thead>\n",
       "    <tr style=\"text-align: right;\">\n",
       "      <th>Metabolite</th>\n",
       "      <th>Reaction</th>\n",
       "      <th>Flux</th>\n",
       "      <th>C-Number</th>\n",
       "      <th>C-Flux</th>\n",
       "    </tr>\n",
       "  </thead>\n",
       "  <tbody>\n",
       "    <tr>\n",
       "      <td>glc__D_e</td>\n",
       "      <td>EX_glc__D_e</td>\n",
       "      <td>10</td>\n",
       "      <td>6</td>\n",
       "      <td>100.00%</td>\n",
       "    </tr>\n",
       "    <tr>\n",
       "      <td>nh4_e</td>\n",
       "      <td>EX_nh4_e</td>\n",
       "      <td>10.38</td>\n",
       "      <td>0</td>\n",
       "      <td>0.00%</td>\n",
       "    </tr>\n",
       "    <tr>\n",
       "      <td>o2_e</td>\n",
       "      <td>EX_o2_e</td>\n",
       "      <td>13.31</td>\n",
       "      <td>0</td>\n",
       "      <td>0.00%</td>\n",
       "    </tr>\n",
       "    <tr>\n",
       "      <td>pi_e</td>\n",
       "      <td>EX_pi_e</td>\n",
       "      <td>2.964</td>\n",
       "      <td>0</td>\n",
       "      <td>0.00%</td>\n",
       "    </tr>\n",
       "    <tr>\n",
       "      <td>so4_e</td>\n",
       "      <td>EX_so4_e</td>\n",
       "      <td>1.482</td>\n",
       "      <td>0</td>\n",
       "      <td>0.00%</td>\n",
       "    </tr>\n",
       "  </tbody>\n",
       "</table><h4>Secretion</h4><table border=\"1\" class=\"dataframe\">\n",
       "  <thead>\n",
       "    <tr style=\"text-align: right;\">\n",
       "      <th>Metabolite</th>\n",
       "      <th>Reaction</th>\n",
       "      <th>Flux</th>\n",
       "      <th>C-Number</th>\n",
       "      <th>C-Flux</th>\n",
       "    </tr>\n",
       "  </thead>\n",
       "  <tbody>\n",
       "    <tr>\n",
       "      <td>co2_e</td>\n",
       "      <td>EX_co2_e</td>\n",
       "      <td>-17.01</td>\n",
       "      <td>1</td>\n",
       "      <td>48.89%</td>\n",
       "    </tr>\n",
       "    <tr>\n",
       "      <td>h2o_e</td>\n",
       "      <td>EX_h2o_e</td>\n",
       "      <td>-48.14</td>\n",
       "      <td>0</td>\n",
       "      <td>0.00%</td>\n",
       "    </tr>\n",
       "    <tr>\n",
       "      <td>h_e</td>\n",
       "      <td>EX_h_e</td>\n",
       "      <td>-4.447</td>\n",
       "      <td>0</td>\n",
       "      <td>0.00%</td>\n",
       "    </tr>\n",
       "    <tr>\n",
       "      <td>xanthotoxin_c</td>\n",
       "      <td>xanthotoxin_e</td>\n",
       "      <td>-1.482</td>\n",
       "      <td>12</td>\n",
       "      <td>51.11%</td>\n",
       "    </tr>\n",
       "  </tbody>\n",
       "</table>"
      ],
      "text/plain": [
       "<cobra.summary.model_summary.ModelSummary at 0x7fcd6c986d30>"
      ]
     },
     "execution_count": 18,
     "metadata": {},
     "output_type": "execute_result"
    }
   ],
   "source": [
    "model3.summary()"
   ]
  },
  {
   "cell_type": "markdown",
   "id": "b03b46bd-fff6-4a61-98b5-bd409b981406",
   "metadata": {},
   "source": [
    "#### Model iECD_1391"
   ]
  },
  {
   "cell_type": "code",
   "execution_count": 19,
   "id": "7dd9535d-1b85-449f-9e8e-640af9873299",
   "metadata": {},
   "outputs": [],
   "source": [
    "model4 = cobra.io.read_sbml_model('iECD_1391_new.xml')"
   ]
  },
  {
   "cell_type": "code",
   "execution_count": 20,
   "id": "98a3cf11-ecee-48f2-88fd-bf17a3b68c92",
   "metadata": {},
   "outputs": [],
   "source": [
    "objective4 = model4.problem.Objective(\n",
    "    model4.reactions.xanthotoxin_e.flux_expression,\n",
    "    direction = 'max')"
   ]
  },
  {
   "cell_type": "code",
   "execution_count": 21,
   "id": "a6f0b60b-4ddc-45c5-b5f2-f835d457ff11",
   "metadata": {},
   "outputs": [],
   "source": [
    "model4.objective = objective4"
   ]
  },
  {
   "cell_type": "code",
   "execution_count": 22,
   "id": "f89e025b-dbca-44d9-959d-e3daebe7f270",
   "metadata": {},
   "outputs": [
    {
     "data": {
      "text/latex": [
       "$\\displaystyle 1.0 xanthotoxin_{e} - 1.0 xanthotoxin_{e reverse 0f468}$"
      ],
      "text/plain": [
       "1.0*xanthotoxin_e - 1.0*xanthotoxin_e_reverse_0f468"
      ]
     },
     "execution_count": 22,
     "metadata": {},
     "output_type": "execute_result"
    }
   ],
   "source": [
    "model4.objective.expression"
   ]
  },
  {
   "cell_type": "code",
   "execution_count": 23,
   "id": "bc36733b-3774-4c71-a690-864da7cc0f4d",
   "metadata": {},
   "outputs": [
    {
     "data": {
      "text/html": [
       "<h3>Objective</h3><p>1.0 xanthotoxin_e = 1.5248049921996882</p><h4>Uptake</h4><table border=\"1\" class=\"dataframe\">\n",
       "  <thead>\n",
       "    <tr style=\"text-align: right;\">\n",
       "      <th>Metabolite</th>\n",
       "      <th>Reaction</th>\n",
       "      <th>Flux</th>\n",
       "      <th>C-Number</th>\n",
       "      <th>C-Flux</th>\n",
       "    </tr>\n",
       "  </thead>\n",
       "  <tbody>\n",
       "    <tr>\n",
       "      <td>glc__D_e</td>\n",
       "      <td>EX_glc__D_e</td>\n",
       "      <td>10</td>\n",
       "      <td>6</td>\n",
       "      <td>100.00%</td>\n",
       "    </tr>\n",
       "    <tr>\n",
       "      <td>nh4_e</td>\n",
       "      <td>EX_nh4_e</td>\n",
       "      <td>10.67</td>\n",
       "      <td>0</td>\n",
       "      <td>0.00%</td>\n",
       "    </tr>\n",
       "    <tr>\n",
       "      <td>o2_e</td>\n",
       "      <td>EX_o2_e</td>\n",
       "      <td>11.97</td>\n",
       "      <td>0</td>\n",
       "      <td>0.00%</td>\n",
       "    </tr>\n",
       "    <tr>\n",
       "      <td>pi_e</td>\n",
       "      <td>EX_pi_e</td>\n",
       "      <td>3.05</td>\n",
       "      <td>0</td>\n",
       "      <td>0.00%</td>\n",
       "    </tr>\n",
       "    <tr>\n",
       "      <td>so4_e</td>\n",
       "      <td>EX_so4_e</td>\n",
       "      <td>1.525</td>\n",
       "      <td>0</td>\n",
       "      <td>0.00%</td>\n",
       "    </tr>\n",
       "  </tbody>\n",
       "</table><h4>Secretion</h4><table border=\"1\" class=\"dataframe\">\n",
       "  <thead>\n",
       "    <tr style=\"text-align: right;\">\n",
       "      <th>Metabolite</th>\n",
       "      <th>Reaction</th>\n",
       "      <th>Flux</th>\n",
       "      <th>C-Number</th>\n",
       "      <th>C-Flux</th>\n",
       "    </tr>\n",
       "  </thead>\n",
       "  <tbody>\n",
       "    <tr>\n",
       "      <td>co2_e</td>\n",
       "      <td>EX_co2_e</td>\n",
       "      <td>-15.78</td>\n",
       "      <td>1</td>\n",
       "      <td>46.31%</td>\n",
       "    </tr>\n",
       "    <tr>\n",
       "      <td>h2o_e</td>\n",
       "      <td>EX_h2o_e</td>\n",
       "      <td>-47.8</td>\n",
       "      <td>0</td>\n",
       "      <td>0.00%</td>\n",
       "    </tr>\n",
       "    <tr>\n",
       "      <td>h_e</td>\n",
       "      <td>EX_h_e</td>\n",
       "      <td>-4.574</td>\n",
       "      <td>0</td>\n",
       "      <td>0.00%</td>\n",
       "    </tr>\n",
       "    <tr>\n",
       "      <td>xanthotoxin_c</td>\n",
       "      <td>xanthotoxin_e</td>\n",
       "      <td>-1.525</td>\n",
       "      <td>12</td>\n",
       "      <td>53.69%</td>\n",
       "    </tr>\n",
       "  </tbody>\n",
       "</table>"
      ],
      "text/plain": [
       "<cobra.summary.model_summary.ModelSummary at 0x7fccf8c44fd0>"
      ]
     },
     "execution_count": 23,
     "metadata": {},
     "output_type": "execute_result"
    }
   ],
   "source": [
    "model4.summary()"
   ]
  },
  {
   "cell_type": "markdown",
   "id": "1758cdd8-e17e-4924-8094-a4bbb2a7e5c0",
   "metadata": {},
   "source": [
    "### According to the results,models iJO1366 and IECD_1391 were choosen to proceed the simulations and optimizations"
   ]
  },
  {
   "cell_type": "markdown",
   "id": "811d6255-76cc-4f28-b1df-85a3eacf9cee",
   "metadata": {},
   "source": [
    "## Simulation "
   ]
  },
  {
   "cell_type": "markdown",
   "id": "9de23f37-2aa4-4417-8781-0d0ffd199b95",
   "metadata": {},
   "source": [
    "### Phenotype simulation"
   ]
  },
  {
   "cell_type": "markdown",
   "id": "88fb48a2-664d-4b9f-b4e8-29b5c120184e",
   "metadata": {},
   "source": [
    "#### Model iJO1366"
   ]
  },
  {
   "cell_type": "code",
   "execution_count": 4,
   "id": "ce0afdee-f704-4de9-a700-5d4287230f94",
   "metadata": {},
   "outputs": [],
   "source": [
    "envcond = {'EX_glc__D_e': (-10.0, 100000.0),\n",
    "           'EX_o2_e':(-1000,1000),\n",
    "          'BIOMASS_Ec_iJO1366_core_53p95M':(0.1,1000)}"
   ]
  },
  {
   "cell_type": "code",
   "execution_count": 5,
   "id": "a9082d61-3017-457f-a691-dac23f6d1d52",
   "metadata": {},
   "outputs": [],
   "source": [
    "simul = get_simulator(model2, envcond = envcond)"
   ]
  },
  {
   "cell_type": "code",
   "execution_count": 6,
   "id": "b7dfb3e8-633c-4aa7-af3b-983a5ccf9bd9",
   "metadata": {},
   "outputs": [],
   "source": [
    "simul.objective = 'xanthotoxin_e'"
   ]
  },
  {
   "cell_type": "code",
   "execution_count": 7,
   "id": "cc3fbd51-9b09-4b59-997b-c384a631b65f",
   "metadata": {},
   "outputs": [
    {
     "data": {
      "text/plain": [
       "objective: 1.387123200401543\n",
       "Status: OPTIMAL\n",
       "Constraints: OrderedDict([('EX_glc__D_e', (-10.0, 100000.0)), ('EX_o2_e', (-1000, 1000)), ('BIOMASS_Ec_iJO1366_core_53p95M', (0.1, 1000))])\n",
       "Method:FBA"
      ]
     },
     "execution_count": 7,
     "metadata": {},
     "output_type": "execute_result"
    }
   ],
   "source": [
    "result_fba = simul.simulate(method = 'FBA')\n",
    "result_fba"
   ]
  },
  {
   "cell_type": "code",
   "execution_count": 28,
   "id": "5df79c05-712f-4a5d-8bbc-14d05a7abc40",
   "metadata": {},
   "outputs": [
    {
     "data": {
      "text/plain": [
       "1.387123200401543"
      ]
     },
     "execution_count": 28,
     "metadata": {},
     "output_type": "execute_result"
    }
   ],
   "source": [
    "result_fba.fluxes['xanthotoxin_e']   "
   ]
  },
  {
   "cell_type": "code",
   "execution_count": 29,
   "id": "49aa4ae0-3a56-4dff-8ca6-4f825ded1b73",
   "metadata": {},
   "outputs": [
    {
     "data": {
      "text/plain": [
       "0.1"
      ]
     },
     "execution_count": 29,
     "metadata": {},
     "output_type": "execute_result"
    }
   ],
   "source": [
    "#Verify if the organism continues to grow\n",
    "result_fba.fluxes['BIOMASS_Ec_iJO1366_core_53p95M']"
   ]
  },
  {
   "cell_type": "code",
   "execution_count": 30,
   "id": "3f4f8d36-8ed0-4928-8ed6-ea8182ab2643",
   "metadata": {},
   "outputs": [
    {
     "data": {
      "text/plain": [
       "objective: 667.4520850433072\n",
       "Status: OPTIMAL\n",
       "Constraints: OrderedDict([('EX_glc__D_e', (-10.0, 100000.0)), ('EX_o2_e', (-1000, 1000)), ('BIOMASS_Ec_iJO1366_core_53p95M', (0.1, 1000))])\n",
       "Method:pFBA"
      ]
     },
     "execution_count": 30,
     "metadata": {},
     "output_type": "execute_result"
    }
   ],
   "source": [
    "result_pfba = simul.simulate(method = 'pFBA')\n",
    "result_pfba"
   ]
  },
  {
   "cell_type": "code",
   "execution_count": 31,
   "id": "e3f15ca5-ccfe-47b2-a4fb-789990ffb750",
   "metadata": {},
   "outputs": [
    {
     "data": {
      "text/plain": [
       "1.3871232004015392"
      ]
     },
     "execution_count": 31,
     "metadata": {},
     "output_type": "execute_result"
    }
   ],
   "source": [
    "result_pfba.fluxes['xanthotoxin_e']  "
   ]
  },
  {
   "cell_type": "code",
   "execution_count": 32,
   "id": "0abf7647-fc4d-48d7-aaa8-7e3d5ec9e17b",
   "metadata": {},
   "outputs": [
    {
     "data": {
      "text/plain": [
       "0.1"
      ]
     },
     "execution_count": 32,
     "metadata": {},
     "output_type": "execute_result"
    }
   ],
   "source": [
    "#Verify if the organism continues to grow\n",
    "result_pfba.fluxes['BIOMASS_Ec_iJO1366_core_53p95M']"
   ]
  },
  {
   "cell_type": "markdown",
   "id": "ff111d18-7aa8-4735-9376-8f8a6c60cfc9",
   "metadata": {},
   "source": [
    "#### Model IECD_1391"
   ]
  },
  {
   "cell_type": "code",
   "execution_count": 34,
   "id": "3cdd6413-08bd-451c-84bd-a87c71557f5c",
   "metadata": {},
   "outputs": [
    {
     "data": {
      "text/plain": [
       "objective: 1.368877746203849\n",
       "Status: OPTIMAL\n",
       "Constraints: OrderedDict([('EX_glc__D_e', (-10.0, 100000.0)), ('EX_o2_e', (-1000, 1000)), ('BIOMASS_Ec_iJO1366_core_53p95M', (0.1, 1000))])\n",
       "Method:FBA"
      ]
     },
     "execution_count": 34,
     "metadata": {},
     "output_type": "execute_result"
    }
   ],
   "source": [
    "simul2 = get_simulator(model4, envcond = envcond)\n",
    "result_fba2 =simul2.simulate(method='FBA')\n",
    "result_fba2"
   ]
  },
  {
   "cell_type": "code",
   "execution_count": 35,
   "id": "1d3f7431-d35a-4142-aa01-0b54e7003c97",
   "metadata": {},
   "outputs": [
    {
     "data": {
      "text/plain": [
       "1.368877746203849"
      ]
     },
     "execution_count": 35,
     "metadata": {},
     "output_type": "execute_result"
    }
   ],
   "source": [
    "result_fba2.fluxes['xanthotoxin_e']   "
   ]
  },
  {
   "cell_type": "code",
   "execution_count": 36,
   "id": "fd72bff5-7d65-4135-bc81-1375fb86e88d",
   "metadata": {},
   "outputs": [
    {
     "data": {
      "text/plain": [
       "0.1"
      ]
     },
     "execution_count": 36,
     "metadata": {},
     "output_type": "execute_result"
    }
   ],
   "source": [
    "#Verify if the organism continues to grow\n",
    "result_fba.fluxes['BIOMASS_Ec_iJO1366_core_53p95M']"
   ]
  },
  {
   "cell_type": "code",
   "execution_count": 37,
   "id": "42a3b68e-028d-4596-8513-4365ca173c05",
   "metadata": {},
   "outputs": [
    {
     "data": {
      "text/plain": [
       "objective: 698.000592329574\n",
       "Status: OPTIMAL\n",
       "Constraints: OrderedDict([('EX_glc__D_e', (-10.0, 100000.0)), ('EX_o2_e', (-1000, 1000)), ('BIOMASS_Ec_iJO1366_core_53p95M', (0.1, 1000))])\n",
       "Method:pFBA"
      ]
     },
     "execution_count": 37,
     "metadata": {},
     "output_type": "execute_result"
    }
   ],
   "source": [
    "result_pfba2 = simul2.simulate(method = 'pFBA')\n",
    "result_pfba2"
   ]
  },
  {
   "cell_type": "code",
   "execution_count": 38,
   "id": "48468833-251c-4a02-a112-1d91f8ab6eae",
   "metadata": {},
   "outputs": [
    {
     "data": {
      "text/plain": [
       "1.3688777462038497"
      ]
     },
     "execution_count": 38,
     "metadata": {},
     "output_type": "execute_result"
    }
   ],
   "source": [
    "result_pfba2.fluxes['xanthotoxin_e']  "
   ]
  },
  {
   "cell_type": "code",
   "execution_count": 39,
   "id": "bf6f30aa-4642-4594-a010-17767abaa7e0",
   "metadata": {},
   "outputs": [
    {
     "data": {
      "text/plain": [
       "0.1"
      ]
     },
     "execution_count": 39,
     "metadata": {},
     "output_type": "execute_result"
    }
   ],
   "source": [
    "#Verify if the organism continues to grow\n",
    "result_pfba.fluxes['BIOMASS_Ec_iJO1366_core_53p95M']"
   ]
  }
 ],
 "metadata": {
  "kernelspec": {
   "display_name": "Python 3",
   "language": "python",
   "name": "python3"
  },
  "language_info": {
   "codemirror_mode": {
    "name": "ipython",
    "version": 3
   },
   "file_extension": ".py",
   "mimetype": "text/x-python",
   "name": "python",
   "nbconvert_exporter": "python",
   "pygments_lexer": "ipython3",
   "version": "3.8.8"
  }
 },
 "nbformat": 4,
 "nbformat_minor": 5
}
