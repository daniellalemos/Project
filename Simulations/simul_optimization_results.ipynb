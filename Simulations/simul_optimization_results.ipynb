{
 "cells": [
  {
   "cell_type": "markdown",
   "id": "de8a526a-f9c9-453a-818a-fec262796a4c",
   "metadata": {},
   "source": [
    "## Simulations with the optimizations results"
   ]
  },
  {
   "cell_type": "code",
   "execution_count": 21,
   "id": "a6b8f2d1-8697-4ab7-b2d8-90fdafdc45de",
   "metadata": {},
   "outputs": [],
   "source": [
    "import cobra \n",
    "import mewpy\n",
    "from mewpy.simulation import get_simulator\n",
    "from mewpy.simulation import SimulationMethod"
   ]
  },
  {
   "cell_type": "code",
   "execution_count": 22,
   "id": "256dfa9b-1a16-4298-bcca-b743db0b6fbc",
   "metadata": {},
   "outputs": [],
   "source": [
    "model1 = cobra.io.read_sbml_model('iJO1366_new.xml')"
   ]
  },
  {
   "cell_type": "markdown",
   "id": "d0a23b40-ae98-440c-a1ed-b3fe5058a74c",
   "metadata": {},
   "source": [
    "### Xanthotoxin"
   ]
  },
  {
   "cell_type": "code",
   "execution_count": 23,
   "id": "069b5f91-c70a-4327-9d16-d043356d8033",
   "metadata": {},
   "outputs": [],
   "source": [
    "envcond = {'EX_glc__D_e': (-10.0, 100000.0),\n",
    "           'EX_o2_e':(-1000,1000),\n",
    "          'BIOMASS_Ec_iJO1366_core_53p95M':(0.1,1000),\n",
    "          'MALTTTRabcpp':(0,4),\n",
    "          'FACOAL80t2pp':(0,0.0625),\n",
    "          'BMOGDS2':(0,4),\n",
    "          'DGK1':(-1000.0,8),\n",
    "          'NHFRBO':(0,4),\n",
    "          'NNDPR':(0,4),\n",
    "          'ATPM':(0,0)}"
   ]
  },
  {
   "cell_type": "code",
   "execution_count": 24,
   "id": "1d185d21-c981-4030-8318-47f204d9c3be",
   "metadata": {},
   "outputs": [],
   "source": [
    "simul = get_simulator(model1, envcond = envcond)"
   ]
  },
  {
   "cell_type": "code",
   "execution_count": 25,
   "id": "22371549-47f1-4dec-96b8-2edfe2616fb8",
   "metadata": {},
   "outputs": [],
   "source": [
    "simul.objective = 'xanthotoxin_e'"
   ]
  },
  {
   "cell_type": "code",
   "execution_count": 26,
   "id": "26f8ff59-a2fa-4437-a787-5c80f49ed56b",
   "metadata": {},
   "outputs": [
    {
     "data": {
      "text/plain": [
       "objective: 655.9017399002008\n",
       "Status: OPTIMAL\n",
       "Constraints: OrderedDict([('EX_glc__D_e', (-10.0, 100000.0)), ('EX_o2_e', (-1000, 1000)), ('BIOMASS_Ec_iJO1366_core_53p95M', (0.1, 1000)), ('MALTTTRabcpp', (0, 4)), ('FACOAL80t2pp', (0, 0.0625)), ('BMOGDS2', (0, 4)), ('DGK1', (-1000.0, 8)), ('NHFRBO', (0, 4)), ('NNDPR', (0, 4)), ('ATPM', (0, 0))])\n",
       "Method:pFBA"
      ]
     },
     "execution_count": 26,
     "metadata": {},
     "output_type": "execute_result"
    }
   ],
   "source": [
    "result_pfba = simul.simulate(method = 'pFBA')\n",
    "result_pfba"
   ]
  },
  {
   "cell_type": "code",
   "execution_count": 27,
   "id": "dfc78a66-d589-4b92-8941-f03eff200854",
   "metadata": {},
   "outputs": [
    {
     "data": {
      "text/plain": [
       "1.4073609132187619"
      ]
     },
     "execution_count": 27,
     "metadata": {},
     "output_type": "execute_result"
    }
   ],
   "source": [
    "result_pfba.fluxes['xanthotoxin_e']  "
   ]
  },
  {
   "cell_type": "markdown",
   "id": "dfceeb8f-b91c-4041-8474-117fec1b0065",
   "metadata": {},
   "source": [
    "### Xanthohumol"
   ]
  },
  {
   "cell_type": "code",
   "execution_count": 29,
   "id": "572ee891-d4a3-413a-8498-e71da3eaa1b6",
   "metadata": {},
   "outputs": [],
   "source": [
    "envcond2 = {'EX_glc__D_e': (-10.0, 100000.0),\n",
    "           'EX_o2_e':(-1000,1000),\n",
    "          'BIOMASS_Ec_iJO1366_core_53p95M':(0.1,1000),\n",
    "          'BMOCOS':(0,4),\n",
    "          'ATPM':(0,0)}"
   ]
  },
  {
   "cell_type": "code",
   "execution_count": 30,
   "id": "c647bf10-f985-4dc4-80f7-463db71aff63",
   "metadata": {},
   "outputs": [],
   "source": [
    "simul2 = get_simulator(model1, envcond = envcond2)"
   ]
  },
  {
   "cell_type": "code",
   "execution_count": 31,
   "id": "0fbe2e8e-720c-4bba-bb5a-7416fd5703cd",
   "metadata": {},
   "outputs": [],
   "source": [
    "simul2.objective = 'xanthohumol_e'"
   ]
  },
  {
   "cell_type": "code",
   "execution_count": 32,
   "id": "9eb76c60-0b7e-4769-a38d-d209052ef2d0",
   "metadata": {},
   "outputs": [
    {
     "data": {
      "text/plain": [
       "objective: 647.6831777032464\n",
       "Status: OPTIMAL\n",
       "Constraints: OrderedDict([('EX_glc__D_e', (-10.0, 100000.0)), ('EX_o2_e', (-1000, 1000)), ('BIOMASS_Ec_iJO1366_core_53p95M', (0.1, 1000)), ('BMOCOS', (0, 4)), ('ATPM', (0, 0))])\n",
       "Method:pFBA"
      ]
     },
     "execution_count": 32,
     "metadata": {},
     "output_type": "execute_result"
    }
   ],
   "source": [
    "result_pfba2 = simul2.simulate(method = 'pFBA')\n",
    "result_pfba2"
   ]
  },
  {
   "cell_type": "code",
   "execution_count": 33,
   "id": "37c27319-d10c-47ad-8294-b656377f8420",
   "metadata": {},
   "outputs": [
    {
     "data": {
      "text/plain": [
       "0.4705485946149241"
      ]
     },
     "execution_count": 33,
     "metadata": {},
     "output_type": "execute_result"
    }
   ],
   "source": [
    "result_pfba2.fluxes['xanthohumol_e']  "
   ]
  },
  {
   "cell_type": "markdown",
   "id": "1449d168-c6d2-430b-83ba-dddbead48d24",
   "metadata": {},
   "source": [
    "### Prenylnaringenin "
   ]
  },
  {
   "cell_type": "code",
   "execution_count": 35,
   "id": "026d692a-9c93-4470-8a7d-b29e8b52af5b",
   "metadata": {},
   "outputs": [],
   "source": [
    "envcond3 = {'EX_glc__D_e': (-10.0, 100000.0),\n",
    "           'EX_o2_e':(-1000,1000),\n",
    "          'BIOMASS_Ec_iJO1366_core_53p95M':(0.1,1000),\n",
    "          'COBALT2tex':(-1000.0,4),\n",
    "          'ATPM':(0,0)}"
   ]
  },
  {
   "cell_type": "code",
   "execution_count": 36,
   "id": "4400348a-1dab-4316-82bb-cb1503240e8e",
   "metadata": {},
   "outputs": [],
   "source": [
    "simul3 = get_simulator(model1, envcond = envcond3)"
   ]
  },
  {
   "cell_type": "code",
   "execution_count": 37,
   "id": "19c1dd73-70ae-4923-a142-953dfb583e7c",
   "metadata": {},
   "outputs": [],
   "source": [
    "simul3.objective = 'prenylnaringenin_e'"
   ]
  },
  {
   "cell_type": "code",
   "execution_count": 38,
   "id": "416324e4-797c-408f-b285-c29ae9498343",
   "metadata": {},
   "outputs": [
    {
     "data": {
      "text/plain": [
       "objective: 659.0240524446472\n",
       "Status: OPTIMAL\n",
       "Constraints: OrderedDict([('EX_glc__D_e', (-10.0, 100000.0)), ('EX_o2_e', (-1000, 1000)), ('BIOMASS_Ec_iJO1366_core_53p95M', (0.1, 1000)), ('COBALT2tex', (-1000.0, 4)), ('ATPM', (0, 0))])\n",
       "Method:pFBA"
      ]
     },
     "execution_count": 38,
     "metadata": {},
     "output_type": "execute_result"
    }
   ],
   "source": [
    "result_pfba3 = simul3.simulate(method = 'pFBA')\n",
    "result_pfba3"
   ]
  },
  {
   "cell_type": "code",
   "execution_count": 39,
   "id": "74d61560-eea9-4db1-9776-15bc57152893",
   "metadata": {},
   "outputs": [
    {
     "data": {
      "text/plain": [
       "0.5031776888931434"
      ]
     },
     "execution_count": 39,
     "metadata": {},
     "output_type": "execute_result"
    }
   ],
   "source": [
    "result_pfba3.fluxes['prenylnaringenin_e']  "
   ]
  }
 ],
 "metadata": {
  "kernelspec": {
   "display_name": "Python 3",
   "language": "python",
   "name": "python3"
  },
  "language_info": {
   "codemirror_mode": {
    "name": "ipython",
    "version": 3
   },
   "file_extension": ".py",
   "mimetype": "text/x-python",
   "name": "python",
   "nbconvert_exporter": "python",
   "pygments_lexer": "ipython3",
   "version": "3.8.8"
  }
 },
 "nbformat": 4,
 "nbformat_minor": 5
}
